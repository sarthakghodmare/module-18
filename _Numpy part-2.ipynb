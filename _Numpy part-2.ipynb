{
 "cells": [
  {
   "cell_type": "code",
   "execution_count": 1,
   "id": "71314cc9-2f21-4577-b574-69c056413e3c",
   "metadata": {},
   "outputs": [],
   "source": [
    "#numpy Array manipulation"
   ]
  },
  {
   "cell_type": "code",
   "execution_count": 5,
   "id": "ec65cbaf-5bd3-4a97-ab9e-7f1117ba8bb1",
   "metadata": {},
   "outputs": [],
   "source": [
    "import numpy as np"
   ]
  },
  {
   "cell_type": "code",
   "execution_count": 7,
   "id": "059ea4c4-55e6-43e2-83f2-d170eec21dea",
   "metadata": {},
   "outputs": [],
   "source": [
    "arr=np.random.randint(1,10,(3,4))"
   ]
  },
  {
   "cell_type": "code",
   "execution_count": 8,
   "id": "38ae5383-3ba2-410c-8d04-e2dae761012c",
   "metadata": {},
   "outputs": [
    {
     "data": {
      "text/plain": [
       "array([[6, 9, 1, 6],\n",
       "       [7, 9, 1, 8],\n",
       "       [5, 5, 3, 4]])"
      ]
     },
     "execution_count": 8,
     "metadata": {},
     "output_type": "execute_result"
    }
   ],
   "source": [
    "arr"
   ]
  },
  {
   "cell_type": "code",
   "execution_count": 9,
   "id": "e9751cc7-6bdc-4bff-83c2-2e6c20137208",
   "metadata": {},
   "outputs": [],
   "source": [
    "#shape chane"
   ]
  },
  {
   "cell_type": "code",
   "execution_count": 10,
   "id": "591fb039-37b7-4260-9d29-c5099a4e43ef",
   "metadata": {},
   "outputs": [
    {
     "data": {
      "text/plain": [
       "array([[6, 9],\n",
       "       [1, 6],\n",
       "       [7, 9],\n",
       "       [1, 8],\n",
       "       [5, 5],\n",
       "       [3, 4]])"
      ]
     },
     "execution_count": 10,
     "metadata": {},
     "output_type": "execute_result"
    }
   ],
   "source": [
    "arr.reshape(6,2)"
   ]
  },
  {
   "cell_type": "code",
   "execution_count": 11,
   "id": "eb3f9aa1-3117-41b4-b402-7cc4804bd234",
   "metadata": {},
   "outputs": [
    {
     "data": {
      "text/plain": [
       "array([[6, 9, 1, 6, 7, 9],\n",
       "       [1, 8, 5, 5, 3, 4]])"
      ]
     },
     "execution_count": 11,
     "metadata": {},
     "output_type": "execute_result"
    }
   ],
   "source": [
    "arr.reshape(2,6)#multiple of 12."
   ]
  },
  {
   "cell_type": "code",
   "execution_count": 12,
   "id": "5b7356cb-9914-4a70-806d-3d80b060253f",
   "metadata": {},
   "outputs": [
    {
     "ename": "ValueError",
     "evalue": "cannot reshape array of size 12 into shape (2,7)",
     "output_type": "error",
     "traceback": [
      "\u001b[0;31m---------------------------------------------------------------------------\u001b[0m",
      "\u001b[0;31mValueError\u001b[0m                                Traceback (most recent call last)",
      "Cell \u001b[0;32mIn[12], line 1\u001b[0m\n\u001b[0;32m----> 1\u001b[0m \u001b[43marr\u001b[49m\u001b[38;5;241;43m.\u001b[39;49m\u001b[43mreshape\u001b[49m\u001b[43m(\u001b[49m\u001b[38;5;241;43m2\u001b[39;49m\u001b[43m,\u001b[49m\u001b[38;5;241;43m7\u001b[39;49m\u001b[43m)\u001b[49m\n",
      "\u001b[0;31mValueError\u001b[0m: cannot reshape array of size 12 into shape (2,7)"
     ]
    }
   ],
   "source": [
    "arr.reshape(2,7)"
   ]
  },
  {
   "cell_type": "code",
   "execution_count": 13,
   "id": "b080e5ce-5226-4907-81c5-5b547b765db1",
   "metadata": {},
   "outputs": [
    {
     "data": {
      "text/plain": [
       "array([[6, 9, 1, 6, 7, 9],\n",
       "       [1, 8, 5, 5, 3, 4]])"
      ]
     },
     "execution_count": 13,
     "metadata": {},
     "output_type": "execute_result"
    }
   ],
   "source": [
    "#negative work becasue it think as 6\n",
    "arr.reshape(2,-7)"
   ]
  },
  {
   "cell_type": "code",
   "execution_count": 14,
   "id": "5e061d47-6c21-4e48-9558-2ada2e4ef995",
   "metadata": {},
   "outputs": [
    {
     "data": {
      "text/plain": [
       "array([[6, 7, 5],\n",
       "       [9, 9, 5],\n",
       "       [1, 1, 3],\n",
       "       [6, 8, 4]])"
      ]
     },
     "execution_count": 14,
     "metadata": {},
     "output_type": "execute_result"
    }
   ],
   "source": [
    "arr.T#rotate 180"
   ]
  },
  {
   "cell_type": "code",
   "execution_count": 15,
   "id": "9f53b84c-eac7-4eba-9cc6-74d62c8941f5",
   "metadata": {},
   "outputs": [
    {
     "data": {
      "text/plain": [
       "array([6, 9, 1, 6, 7, 9, 1, 8, 5, 5, 3, 4])"
      ]
     },
     "execution_count": 15,
     "metadata": {},
     "output_type": "execute_result"
    }
   ],
   "source": [
    "arr.flatten()#covert 2d into 1d"
   ]
  },
  {
   "cell_type": "code",
   "execution_count": 17,
   "id": "87e692e9-c963-493b-82a7-1cabe6520c88",
   "metadata": {},
   "outputs": [],
   "source": [
    "arr1=np.array([1,2,3,4])"
   ]
  },
  {
   "cell_type": "code",
   "execution_count": 18,
   "id": "4dd8c86f-0af2-4607-b6d4-0652d1bd8710",
   "metadata": {},
   "outputs": [
    {
     "data": {
      "text/plain": [
       "1"
      ]
     },
     "execution_count": 18,
     "metadata": {},
     "output_type": "execute_result"
    }
   ],
   "source": [
    "arr1.ndim"
   ]
  },
  {
   "cell_type": "code",
   "execution_count": 19,
   "id": "5d3fe72f-00ab-4791-8af3-dc0839d2a06c",
   "metadata": {},
   "outputs": [
    {
     "data": {
      "text/plain": [
       "array([[1],\n",
       "       [2],\n",
       "       [3],\n",
       "       [4]])"
      ]
     },
     "execution_count": 19,
     "metadata": {},
     "output_type": "execute_result"
    }
   ],
   "source": [
    "np.expand_dims(arr1,axis=1)#axis 1 means coulms ,changein 2d."
   ]
  },
  {
   "cell_type": "code",
   "execution_count": 20,
   "id": "a6cdfe51-ec3c-4dc6-a142-5afb94399cc7",
   "metadata": {},
   "outputs": [
    {
     "data": {
      "text/plain": [
       "array([[1, 2, 3, 4]])"
      ]
     },
     "execution_count": 20,
     "metadata": {},
     "output_type": "execute_result"
    }
   ],
   "source": [
    "np.expand_dims(arr1,axis=0)"
   ]
  },
  {
   "cell_type": "code",
   "execution_count": 21,
   "id": "faaf3a65-d481-455b-b899-d6bd830fbc5b",
   "metadata": {},
   "outputs": [
    {
     "data": {
      "text/plain": [
       "array([[6, 9, 1, 6],\n",
       "       [7, 9, 1, 8],\n",
       "       [5, 5, 3, 4]])"
      ]
     },
     "execution_count": 21,
     "metadata": {},
     "output_type": "execute_result"
    }
   ],
   "source": [
    "np.squeeze(arr)#nothing happen"
   ]
  },
  {
   "cell_type": "code",
   "execution_count": 22,
   "id": "aeccf5f9-2414-402a-8ec6-893fd8035d5e",
   "metadata": {},
   "outputs": [],
   "source": [
    "data=np.array([[1],[2],[3]])"
   ]
  },
  {
   "cell_type": "code",
   "execution_count": 23,
   "id": "a25aea7c-90fe-41f9-9a31-18aa8ce01010",
   "metadata": {},
   "outputs": [
    {
     "data": {
      "text/plain": [
       "array([[1],\n",
       "       [2],\n",
       "       [3]])"
      ]
     },
     "execution_count": 23,
     "metadata": {},
     "output_type": "execute_result"
    }
   ],
   "source": [
    "data"
   ]
  },
  {
   "cell_type": "code",
   "execution_count": 24,
   "id": "796855a1-1127-4509-9559-b8dce040156e",
   "metadata": {},
   "outputs": [
    {
     "data": {
      "text/plain": [
       "array([1, 2, 3])"
      ]
     },
     "execution_count": 24,
     "metadata": {},
     "output_type": "execute_result"
    }
   ],
   "source": [
    "np.squeeze(data)#covert 1d from 2d but element is only one in ,above example is does not happen because elemnt is more than1 ."
   ]
  },
  {
   "cell_type": "code",
   "execution_count": 25,
   "id": "01208568-300e-47d7-9070-3ddb800bc47d",
   "metadata": {},
   "outputs": [
    {
     "data": {
      "text/plain": [
       "array([1, 2, 3, 4])"
      ]
     },
     "execution_count": 25,
     "metadata": {},
     "output_type": "execute_result"
    }
   ],
   "source": [
    "arr1"
   ]
  },
  {
   "cell_type": "code",
   "execution_count": 26,
   "id": "b3e93002-a845-48ec-a591-bff522a59d18",
   "metadata": {},
   "outputs": [
    {
     "data": {
      "text/plain": [
       "array([1, 1, 1, 2, 2, 2, 3, 3, 3, 4, 4, 4])"
      ]
     },
     "execution_count": 26,
     "metadata": {},
     "output_type": "execute_result"
    }
   ],
   "source": [
    "np.repeat(arr1,3)#3 time repeat"
   ]
  },
  {
   "cell_type": "code",
   "execution_count": 28,
   "id": "1befe717-cd51-4239-8207-4c72912497cc",
   "metadata": {},
   "outputs": [
    {
     "data": {
      "text/plain": [
       "array([2, 3, 4, 1])"
      ]
     },
     "execution_count": 28,
     "metadata": {},
     "output_type": "execute_result"
    }
   ],
   "source": [
    "np.roll(arr1,shift=3) #shift/roll by 2."
   ]
  },
  {
   "cell_type": "code",
   "execution_count": 29,
   "id": "f63bc781-233e-4781-9361-2953c022edaf",
   "metadata": {},
   "outputs": [
    {
     "data": {
      "text/plain": [
       "array([[1, 0, 0, 0],\n",
       "       [0, 2, 0, 0],\n",
       "       [0, 0, 3, 0],\n",
       "       [0, 0, 0, 4]])"
      ]
     },
     "execution_count": 29,
     "metadata": {},
     "output_type": "execute_result"
    }
   ],
   "source": [
    "np.diag(arr1)"
   ]
  },
  {
   "cell_type": "code",
   "execution_count": 30,
   "id": "75418b2f-e1a1-4f4c-a545-30ec9708289f",
   "metadata": {},
   "outputs": [],
   "source": [
    "#numpy binary operation"
   ]
  },
  {
   "cell_type": "code",
   "execution_count": 31,
   "id": "ffe22d39-d580-446c-8f99-0f81a423cae9",
   "metadata": {},
   "outputs": [],
   "source": [
    "arr1=np.random.randint(1,10,(3,4))"
   ]
  },
  {
   "cell_type": "code",
   "execution_count": 32,
   "id": "fabb704e-ed2b-43dd-b21a-18d014b737b6",
   "metadata": {},
   "outputs": [],
   "source": [
    "arr2=np.random.randint(1,10,(3,4))"
   ]
  },
  {
   "cell_type": "code",
   "execution_count": 33,
   "id": "a78bd826-4ed9-4fbb-813c-223e78c2b8a5",
   "metadata": {},
   "outputs": [
    {
     "data": {
      "text/plain": [
       "array([[4, 7, 2, 3],\n",
       "       [1, 4, 3, 7],\n",
       "       [7, 7, 8, 8]])"
      ]
     },
     "execution_count": 33,
     "metadata": {},
     "output_type": "execute_result"
    }
   ],
   "source": [
    "arr1"
   ]
  },
  {
   "cell_type": "code",
   "execution_count": 34,
   "id": "703d53b5-be79-4a00-9f3c-880aca88dc26",
   "metadata": {},
   "outputs": [
    {
     "data": {
      "text/plain": [
       "array([[9, 4, 5, 2],\n",
       "       [2, 2, 3, 3],\n",
       "       [6, 9, 6, 4]])"
      ]
     },
     "execution_count": 34,
     "metadata": {},
     "output_type": "execute_result"
    }
   ],
   "source": [
    "arr2"
   ]
  },
  {
   "cell_type": "code",
   "execution_count": 35,
   "id": "6dd26c5d-fb67-4a85-9f72-675ae5473b07",
   "metadata": {},
   "outputs": [
    {
     "data": {
      "text/plain": [
       "array([[13, 11,  7,  5],\n",
       "       [ 3,  6,  6, 10],\n",
       "       [13, 16, 14, 12]])"
      ]
     },
     "execution_count": 35,
     "metadata": {},
     "output_type": "execute_result"
    }
   ],
   "source": [
    "arr1+arr2#indexwise opration"
   ]
  },
  {
   "cell_type": "code",
   "execution_count": 36,
   "id": "3edb309c-402f-4330-be73-420abefb2bfe",
   "metadata": {},
   "outputs": [
    {
     "data": {
      "text/plain": [
       "array([[36, 28, 10,  6],\n",
       "       [ 2,  8,  9, 21],\n",
       "       [42, 63, 48, 32]])"
      ]
     },
     "execution_count": 36,
     "metadata": {},
     "output_type": "execute_result"
    }
   ],
   "source": [
    "arr1*arr2"
   ]
  },
  {
   "cell_type": "code",
   "execution_count": 37,
   "id": "970627a6-2ee3-4a5d-a567-b1f85a7e28e6",
   "metadata": {},
   "outputs": [
    {
     "data": {
      "text/plain": [
       "array([[0.44444444, 1.75      , 0.4       , 1.5       ],\n",
       "       [0.5       , 2.        , 1.        , 2.33333333],\n",
       "       [1.16666667, 0.77777778, 1.33333333, 2.        ]])"
      ]
     },
     "execution_count": 37,
     "metadata": {},
     "output_type": "execute_result"
    }
   ],
   "source": [
    "arr1/arr2"
   ]
  },
  {
   "cell_type": "code",
   "execution_count": 38,
   "id": "b3cece7b-2ec6-44e8-9bac-cdc187559e80",
   "metadata": {},
   "outputs": [
    {
     "data": {
      "text/plain": [
       "array([[-5,  3, -3,  1],\n",
       "       [-1,  2,  0,  4],\n",
       "       [ 1, -2,  2,  4]])"
      ]
     },
     "execution_count": 38,
     "metadata": {},
     "output_type": "execute_result"
    }
   ],
   "source": [
    "arr1-arr2"
   ]
  },
  {
   "cell_type": "code",
   "execution_count": 39,
   "id": "a21c175f-df68-4bff-ac6f-35cdbb317d5c",
   "metadata": {},
   "outputs": [
    {
     "data": {
      "text/plain": [
       "array([[4, 3, 2, 1],\n",
       "       [1, 0, 0, 1],\n",
       "       [1, 7, 2, 0]])"
      ]
     },
     "execution_count": 39,
     "metadata": {},
     "output_type": "execute_result"
    }
   ],
   "source": [
    "arr1%arr2#reminder "
   ]
  },
  {
   "cell_type": "code",
   "execution_count": 41,
   "id": "3c8c6ded-c26f-4a18-b077-093cc499abab",
   "metadata": {},
   "outputs": [
    {
     "data": {
      "text/plain": [
       "array([[  262144,     2401,       32,        9],\n",
       "       [       1,       16,       27,      343],\n",
       "       [  117649, 40353607,   262144,     4096]])"
      ]
     },
     "execution_count": 41,
     "metadata": {},
     "output_type": "execute_result"
    }
   ],
   "source": [
    "arr1 **arr2#power"
   ]
  },
  {
   "cell_type": "code",
   "execution_count": 42,
   "id": "45f5df89-87a2-4e97-86a5-d4208fcc0011",
   "metadata": {},
   "outputs": [
    {
     "data": {
      "text/plain": [
       "array([[0, 4, 0, 2],\n",
       "       [0, 0, 3, 3],\n",
       "       [6, 1, 0, 0]])"
      ]
     },
     "execution_count": 42,
     "metadata": {},
     "output_type": "execute_result"
    }
   ],
   "source": [
    "arr1&arr2#anding"
   ]
  },
  {
   "cell_type": "code",
   "execution_count": 44,
   "id": "9c102737-168c-4962-8d58-fec134cea54e",
   "metadata": {},
   "outputs": [
    {
     "data": {
      "text/plain": [
       "array([[-5, -8, -3, -4],\n",
       "       [-2, -5, -4, -8],\n",
       "       [-8, -8, -9, -9]])"
      ]
     },
     "execution_count": 44,
     "metadata": {},
     "output_type": "execute_result"
    }
   ],
   "source": [
    "~arr1#negation"
   ]
  },
  {
   "cell_type": "code",
   "execution_count": 45,
   "id": "bb628e37-3f5c-4e6c-ac58-5397674547c0",
   "metadata": {},
   "outputs": [
    {
     "data": {
      "text/plain": [
       "array([[13,  7,  7,  3],\n",
       "       [ 3,  6,  3,  7],\n",
       "       [ 7, 15, 14, 12]])"
      ]
     },
     "execution_count": 45,
     "metadata": {},
     "output_type": "execute_result"
    }
   ],
   "source": [
    "arr1|arr2#oring"
   ]
  },
  {
   "cell_type": "code",
   "execution_count": 46,
   "id": "0da09da3-6ab1-4c5a-9283-432fb938ff01",
   "metadata": {},
   "outputs": [
    {
     "data": {
      "text/plain": [
       "array([[False,  True, False,  True],\n",
       "       [False,  True, False,  True],\n",
       "       [ True, False,  True,  True]])"
      ]
     },
     "execution_count": 46,
     "metadata": {},
     "output_type": "execute_result"
    }
   ],
   "source": [
    "arr1>arr2#if yes then true"
   ]
  },
  {
   "cell_type": "code",
   "execution_count": 47,
   "id": "f0fc7112-a44d-4792-96ad-9167b0c11e14",
   "metadata": {},
   "outputs": [],
   "source": [
    "#numpy string function"
   ]
  },
  {
   "cell_type": "code",
   "execution_count": 49,
   "id": "bbe3d11c-7cfe-404e-86a5-02664cd41a36",
   "metadata": {},
   "outputs": [],
   "source": [
    "arr=np.array(['sart','ghodmare'])"
   ]
  },
  {
   "cell_type": "code",
   "execution_count": 50,
   "id": "c581627c-c76a-4bbb-b27a-593e4ed35bdf",
   "metadata": {},
   "outputs": [
    {
     "data": {
      "text/plain": [
       "array(['sart', 'ghodmare'], dtype='<U8')"
      ]
     },
     "execution_count": 50,
     "metadata": {},
     "output_type": "execute_result"
    }
   ],
   "source": [
    "arr"
   ]
  },
  {
   "cell_type": "code",
   "execution_count": 51,
   "id": "ead84a70-673f-4fa5-9eaf-136b4aa8c2c8",
   "metadata": {},
   "outputs": [
    {
     "data": {
      "text/plain": [
       "array(['SART', 'GHODMARE'], dtype='<U8')"
      ]
     },
     "execution_count": 51,
     "metadata": {},
     "output_type": "execute_result"
    }
   ],
   "source": [
    "#uppercase\n",
    "np.char.upper(arr)"
   ]
  },
  {
   "cell_type": "code",
   "execution_count": 52,
   "id": "b772cb07-0ebf-4e4b-8c1f-bcf977d3bb61",
   "metadata": {},
   "outputs": [
    {
     "data": {
      "text/plain": [
       "array(['Sart', 'Ghodmare'], dtype='<U8')"
      ]
     },
     "execution_count": 52,
     "metadata": {},
     "output_type": "execute_result"
    }
   ],
   "source": [
    "np.char.title(arr)"
   ]
  },
  {
   "cell_type": "code",
   "execution_count": 53,
   "id": "daa8a962-9b87-4666-a4ba-9af65fc8863d",
   "metadata": {},
   "outputs": [
    {
     "data": {
      "text/plain": [
       "array(['Sart', 'Ghodmare'], dtype='<U8')"
      ]
     },
     "execution_count": 53,
     "metadata": {},
     "output_type": "execute_result"
    }
   ],
   "source": [
    "np.char.capitalize(arr)"
   ]
  },
  {
   "cell_type": "code",
   "execution_count": 54,
   "id": "52e5e6af-1a32-4899-9e0d-425d9003708d",
   "metadata": {},
   "outputs": [],
   "source": [
    "#numpy mathematical function"
   ]
  },
  {
   "cell_type": "code",
   "execution_count": 55,
   "id": "4370a41e-11ed-4b61-9344-54fd7f3a4e51",
   "metadata": {},
   "outputs": [
    {
     "data": {
      "text/plain": [
       "array([[4, 7, 2, 3],\n",
       "       [1, 4, 3, 7],\n",
       "       [7, 7, 8, 8]])"
      ]
     },
     "execution_count": 55,
     "metadata": {},
     "output_type": "execute_result"
    }
   ],
   "source": [
    "arr1"
   ]
  },
  {
   "cell_type": "code",
   "execution_count": 56,
   "id": "546dee3e-94a9-4b9d-81b5-d944086df4c0",
   "metadata": {},
   "outputs": [
    {
     "data": {
      "text/plain": [
       "array([[-0.7568025 ,  0.6569866 ,  0.90929743,  0.14112001],\n",
       "       [ 0.84147098, -0.7568025 ,  0.14112001,  0.6569866 ],\n",
       "       [ 0.6569866 ,  0.6569866 ,  0.98935825,  0.98935825]])"
      ]
     },
     "execution_count": 56,
     "metadata": {},
     "output_type": "execute_result"
    }
   ],
   "source": [
    "np.sin(arr1)"
   ]
  },
  {
   "cell_type": "code",
   "execution_count": 57,
   "id": "d9897c86-9678-4b40-8f50-3a01851c1e4f",
   "metadata": {},
   "outputs": [
    {
     "data": {
      "text/plain": [
       "array([[-0.65364362,  0.75390225, -0.41614684, -0.9899925 ],\n",
       "       [ 0.54030231, -0.65364362, -0.9899925 ,  0.75390225],\n",
       "       [ 0.75390225,  0.75390225, -0.14550003, -0.14550003]])"
      ]
     },
     "execution_count": 57,
     "metadata": {},
     "output_type": "execute_result"
    }
   ],
   "source": [
    "np.cos(arr1)"
   ]
  },
  {
   "cell_type": "code",
   "execution_count": 59,
   "id": "a2a2a842-f728-49ab-9d5e-867f2c45cb6c",
   "metadata": {},
   "outputs": [
    {
     "data": {
      "text/plain": [
       "array([[ 1.15782128,  0.87144798, -2.18503986, -0.14254654],\n",
       "       [ 1.55740772,  1.15782128, -0.14254654,  0.87144798],\n",
       "       [ 0.87144798,  0.87144798, -6.79971146, -6.79971146]])"
      ]
     },
     "execution_count": 59,
     "metadata": {},
     "output_type": "execute_result"
    }
   ],
   "source": [
    "np.tan(arr1)"
   ]
  },
  {
   "cell_type": "code",
   "execution_count": 60,
   "id": "52d79d28-4e63-46cb-b2df-da66df168dd3",
   "metadata": {},
   "outputs": [
    {
     "data": {
      "text/plain": [
       "array([[1.38629436, 1.94591015, 0.69314718, 1.09861229],\n",
       "       [0.        , 1.38629436, 1.09861229, 1.94591015],\n",
       "       [1.94591015, 1.94591015, 2.07944154, 2.07944154]])"
      ]
     },
     "execution_count": 60,
     "metadata": {},
     "output_type": "execute_result"
    }
   ],
   "source": [
    "np.log(arr1)"
   ]
  },
  {
   "cell_type": "code",
   "execution_count": 61,
   "id": "ff643744-d86d-495a-b6f4-0aede1fbf41d",
   "metadata": {},
   "outputs": [
    {
     "data": {
      "text/plain": [
       "array([[5.45981500e+01, 1.09663316e+03, 7.38905610e+00, 2.00855369e+01],\n",
       "       [2.71828183e+00, 5.45981500e+01, 2.00855369e+01, 1.09663316e+03],\n",
       "       [1.09663316e+03, 1.09663316e+03, 2.98095799e+03, 2.98095799e+03]])"
      ]
     },
     "execution_count": 61,
     "metadata": {},
     "output_type": "execute_result"
    }
   ],
   "source": [
    "np.exp(arr1)"
   ]
  },
  {
   "cell_type": "code",
   "execution_count": 62,
   "id": "8bca70a8-656d-4e01-9d54-2b9a19879af6",
   "metadata": {},
   "outputs": [
    {
     "data": {
      "text/plain": [
       "array([[2.        , 2.64575131, 1.41421356, 1.73205081],\n",
       "       [1.        , 2.        , 1.73205081, 2.64575131],\n",
       "       [2.64575131, 2.64575131, 2.82842712, 2.82842712]])"
      ]
     },
     "execution_count": 62,
     "metadata": {},
     "output_type": "execute_result"
    }
   ],
   "source": [
    "np.sqrt(arr1)"
   ]
  },
  {
   "cell_type": "code",
   "execution_count": 63,
   "id": "f02c4bf3-2e7e-4ad7-8a26-6c96040dc140",
   "metadata": {},
   "outputs": [
    {
     "data": {
      "text/plain": [
       "array([[16, 49,  4,  9],\n",
       "       [ 1, 16,  9, 49],\n",
       "       [49, 49, 64, 64]])"
      ]
     },
     "execution_count": 63,
     "metadata": {},
     "output_type": "execute_result"
    }
   ],
   "source": [
    "np.power(arr1,2)"
   ]
  },
  {
   "cell_type": "code",
   "execution_count": 64,
   "id": "3ae1b892-e216-42f0-8ea8-77b852c0b9b9",
   "metadata": {},
   "outputs": [
    {
     "data": {
      "text/plain": [
       "5.083333333333333"
      ]
     },
     "execution_count": 64,
     "metadata": {},
     "output_type": "execute_result"
    }
   ],
   "source": [
    "np.mean(arr1)"
   ]
  },
  {
   "cell_type": "code",
   "execution_count": 66,
   "id": "f84d4e80-bb8a-4a7b-aa64-4c760279144d",
   "metadata": {},
   "outputs": [
    {
     "data": {
      "text/plain": [
       "5.5"
      ]
     },
     "execution_count": 66,
     "metadata": {},
     "output_type": "execute_result"
    }
   ],
   "source": [
    "np.median(arr1)"
   ]
  },
  {
   "cell_type": "code",
   "execution_count": 67,
   "id": "d42d45fa-3153-4daf-ac52-a81df0693825",
   "metadata": {},
   "outputs": [
    {
     "data": {
      "text/plain": [
       "2.3964673074247345"
      ]
     },
     "execution_count": 67,
     "metadata": {},
     "output_type": "execute_result"
    }
   ],
   "source": [
    "np.std(arr1)"
   ]
  },
  {
   "cell_type": "code",
   "execution_count": 68,
   "id": "b2229687-abdf-434b-b814-f82afe65aacf",
   "metadata": {},
   "outputs": [
    {
     "data": {
      "text/plain": [
       "5.743055555555556"
      ]
     },
     "execution_count": 68,
     "metadata": {},
     "output_type": "execute_result"
    }
   ],
   "source": [
    "np.var(arr1)"
   ]
  },
  {
   "cell_type": "code",
   "execution_count": 69,
   "id": "30e852d3-cc0b-406d-b503-7edde81f95a3",
   "metadata": {},
   "outputs": [
    {
     "data": {
      "text/plain": [
       "1"
      ]
     },
     "execution_count": 69,
     "metadata": {},
     "output_type": "execute_result"
    }
   ],
   "source": [
    "np.min(arr1)"
   ]
  },
  {
   "cell_type": "code",
   "execution_count": 70,
   "id": "57dbcf8c-bbaf-4019-96ec-9fa8d9a1998e",
   "metadata": {},
   "outputs": [
    {
     "data": {
      "text/plain": [
       "8"
      ]
     },
     "execution_count": 70,
     "metadata": {},
     "output_type": "execute_result"
    }
   ],
   "source": [
    "np.max(arr1)"
   ]
  },
  {
   "cell_type": "code",
   "execution_count": null,
   "id": "5f8addc2-e438-4a5b-bd3a-c67335c13021",
   "metadata": {},
   "outputs": [],
   "source": []
  }
 ],
 "metadata": {
  "kernelspec": {
   "display_name": "Python 3 (ipykernel)",
   "language": "python",
   "name": "python3"
  },
  "language_info": {
   "codemirror_mode": {
    "name": "ipython",
    "version": 3
   },
   "file_extension": ".py",
   "mimetype": "text/x-python",
   "name": "python",
   "nbconvert_exporter": "python",
   "pygments_lexer": "ipython3",
   "version": "3.10.8"
  }
 },
 "nbformat": 4,
 "nbformat_minor": 5
}
