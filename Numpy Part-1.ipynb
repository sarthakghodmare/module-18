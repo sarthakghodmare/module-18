{
 "cells": [
  {
   "cell_type": "code",
   "execution_count": 1,
   "id": "c083c26e-e821-43e4-81e2-6d44eed43377",
   "metadata": {},
   "outputs": [],
   "source": [
    "#in python for numerical operation before there is no library avliable,whic ever bigdata,machinelearnig,nlp whatever is have array and matrix/numerical data then we use numpy."
   ]
  },
  {
   "cell_type": "code",
   "execution_count": 2,
   "id": "7ef8de78-7038-46dc-9a4b-af66a1e71d0e",
   "metadata": {},
   "outputs": [],
   "source": [
    "import numpy as np"
   ]
  },
  {
   "cell_type": "code",
   "execution_count": 3,
   "id": "5b84764d-f40e-4fc4-a3c5-28afa01449fd",
   "metadata": {},
   "outputs": [],
   "source": [
    "l=[1,2,3,4]#basic data structure we want to convert in array"
   ]
  },
  {
   "cell_type": "code",
   "execution_count": 5,
   "id": "5314c5af-934e-4df9-b9fc-a7578c3dddb2",
   "metadata": {},
   "outputs": [],
   "source": [
    "ar=np.array(l)#array is differnrt data structure avliable in numpy"
   ]
  },
  {
   "cell_type": "code",
   "execution_count": 6,
   "id": "8b17920a-3f3a-4d3d-aece-b45a0018a103",
   "metadata": {},
   "outputs": [
    {
     "data": {
      "text/plain": [
       "numpy.ndarray"
      ]
     },
     "execution_count": 6,
     "metadata": {},
     "output_type": "execute_result"
    }
   ],
   "source": [
    "type(ar)"
   ]
  },
  {
   "cell_type": "code",
   "execution_count": 7,
   "id": "a5890653-06e4-45e2-893f-cfe14611e305",
   "metadata": {},
   "outputs": [],
   "source": [
    "#what is ndarry basically we get data in 1 dimension,2 dimensinon and so on,by using ndarry  we can represt any dimesnion array,rgb is a3 dimensional aaray."
   ]
  },
  {
   "cell_type": "code",
   "execution_count": 8,
   "id": "ff4315e0-90f1-4ae2-bd59-55785833dee1",
   "metadata": {},
   "outputs": [
    {
     "data": {
      "text/plain": [
       "array([[ 1,  2,  3],\n",
       "       [34,  5,  6]])"
      ]
     },
     "execution_count": 8,
     "metadata": {},
     "output_type": "execute_result"
    }
   ],
   "source": [
    "np.array([[1,2,3],[34,5,6#2 dimesional aary ,for 1 dimeansionl we require only x axis and for 2 dimen x and y both.coordinate.max to max we can represt 3d data."
   ]
  },
  {
   "cell_type": "code",
   "execution_count": 9,
   "id": "815a9bb8-9afc-4286-baa3-27db03ab22c2",
   "metadata": {},
   "outputs": [
    {
     "data": {
      "text/plain": [
       "array([1, 2, 3, 4])"
      ]
     },
     "execution_count": 9,
     "metadata": {},
     "output_type": "execute_result"
    }
   ],
   "source": [
    "np.asarray(l)#it also conver it ndarry"
   ]
  },
  {
   "cell_type": "code",
   "execution_count": 11,
   "id": "0aba9f4d-05b4-4f4b-81b4-aaaf382d1f8f",
   "metadata": {},
   "outputs": [
    {
     "data": {
      "text/plain": [
       "numpy.ndarray"
      ]
     },
     "execution_count": 11,
     "metadata": {},
     "output_type": "execute_result"
    }
   ],
   "source": [
    "type(np.asarray(l))"
   ]
  },
  {
   "cell_type": "code",
   "execution_count": 12,
   "id": "9c7c3ef6-4069-4432-8f67-3f19d7e7a7a8",
   "metadata": {},
   "outputs": [
    {
     "data": {
      "text/plain": [
       "array([1, 2, 3, 4])"
      ]
     },
     "execution_count": 12,
     "metadata": {},
     "output_type": "execute_result"
    }
   ],
   "source": [
    "np.asanyarray(l)"
   ]
  },
  {
   "cell_type": "code",
   "execution_count": 13,
   "id": "1db8a2a4-e50b-4b7a-82b6-1f2cecb143fe",
   "metadata": {},
   "outputs": [
    {
     "data": {
      "text/plain": [
       "numpy.ndarray"
      ]
     },
     "execution_count": 13,
     "metadata": {},
     "output_type": "execute_result"
    }
   ],
   "source": [
    "type(np.asanyarray(l))"
   ]
  },
  {
   "cell_type": "code",
   "execution_count": 14,
   "id": "8c65d2c7-a7e1-419c-bb97-4580b4f2f562",
   "metadata": {},
   "outputs": [],
   "source": [
    "#matrix by default 2 dimensional,it is a subset of array\n",
    "b=np.matrix(l)"
   ]
  },
  {
   "cell_type": "code",
   "execution_count": 15,
   "id": "5ee2dd4f-d9c7-4098-b1fa-e870278390a2",
   "metadata": {},
   "outputs": [
    {
     "data": {
      "text/plain": [
       "matrix([[1, 2, 3, 4]])"
      ]
     },
     "execution_count": 15,
     "metadata": {},
     "output_type": "execute_result"
    }
   ],
   "source": [
    "b"
   ]
  },
  {
   "cell_type": "code",
   "execution_count": 16,
   "id": "b8dad86a-19ac-4ed3-9f65-691da9331878",
   "metadata": {},
   "outputs": [
    {
     "data": {
      "text/plain": [
       "matrix([[1, 2, 3, 4]])"
      ]
     },
     "execution_count": 16,
     "metadata": {},
     "output_type": "execute_result"
    }
   ],
   "source": [
    "np.asanyarray(b)#it does not convert in array,becuasw asanyarray only convert array matrix is subst,because it is a arry form."
   ]
  },
  {
   "cell_type": "code",
   "execution_count": 17,
   "id": "5dd390a3-6906-4548-bd4c-ff7449c2a695",
   "metadata": {},
   "outputs": [],
   "source": [
    "a=np.array(l)"
   ]
  },
  {
   "cell_type": "code",
   "execution_count": 18,
   "id": "b60976a4-d755-4741-b392-e3ad16e603fa",
   "metadata": {},
   "outputs": [
    {
     "data": {
      "text/plain": [
       "array([1, 2, 3, 4])"
      ]
     },
     "execution_count": 18,
     "metadata": {},
     "output_type": "execute_result"
    }
   ],
   "source": [
    "a"
   ]
  },
  {
   "cell_type": "code",
   "execution_count": 19,
   "id": "2a7d7845-f25a-4579-838c-13090581a418",
   "metadata": {},
   "outputs": [],
   "source": [
    "c=a"
   ]
  },
  {
   "cell_type": "code",
   "execution_count": 20,
   "id": "6e634c14-2d93-4ddd-96c2-acbd0a45f3cb",
   "metadata": {},
   "outputs": [
    {
     "data": {
      "text/plain": [
       "array([1, 2, 3, 4])"
      ]
     },
     "execution_count": 20,
     "metadata": {},
     "output_type": "execute_result"
    }
   ],
   "source": [
    "c"
   ]
  },
  {
   "cell_type": "code",
   "execution_count": 21,
   "id": "93c7e8d6-d171-4607-9b6e-85182d851aa1",
   "metadata": {},
   "outputs": [
    {
     "data": {
      "text/plain": [
       "array([1, 2, 3, 4])"
      ]
     },
     "execution_count": 21,
     "metadata": {},
     "output_type": "execute_result"
    }
   ],
   "source": [
    "a\n"
   ]
  },
  {
   "cell_type": "code",
   "execution_count": 22,
   "id": "912f5aba-2ddf-49e6-bb18-3577414a77c1",
   "metadata": {},
   "outputs": [],
   "source": [
    "c[0]=100"
   ]
  },
  {
   "cell_type": "code",
   "execution_count": 23,
   "id": "3d3fa445-3178-483d-a1f5-0e06b6e63eb9",
   "metadata": {},
   "outputs": [
    {
     "data": {
      "text/plain": [
       "array([100,   2,   3,   4])"
      ]
     },
     "execution_count": 23,
     "metadata": {},
     "output_type": "execute_result"
    }
   ],
   "source": [
    "c#it is a solcopy because both data is one and store in same locatoion,same  place copy any varible can manipulates."
   ]
  },
  {
   "cell_type": "code",
   "execution_count": 24,
   "id": "a74d018f-529a-4dc4-a21d-36edc4ea3c40",
   "metadata": {},
   "outputs": [
    {
     "data": {
      "text/plain": [
       "array([100,   2,   3,   4])"
      ]
     },
     "execution_count": 24,
     "metadata": {},
     "output_type": "execute_result"
    }
   ],
   "source": [
    "a"
   ]
  },
  {
   "cell_type": "code",
   "execution_count": 26,
   "id": "7ede6602-317d-405c-887c-7eb82e7d6549",
   "metadata": {},
   "outputs": [],
   "source": [
    "d=np.copy(a)#it is a deepcopy,above is solocopy"
   ]
  },
  {
   "cell_type": "code",
   "execution_count": 27,
   "id": "7c10c369-af18-4b53-a4f6-241053830e2c",
   "metadata": {},
   "outputs": [
    {
     "data": {
      "text/plain": [
       "array([100,   2,   3,   4])"
      ]
     },
     "execution_count": 27,
     "metadata": {},
     "output_type": "execute_result"
    }
   ],
   "source": [
    "d"
   ]
  },
  {
   "cell_type": "code",
   "execution_count": 28,
   "id": "24a8af48-27dc-4847-b851-30cb84269eda",
   "metadata": {},
   "outputs": [
    {
     "data": {
      "text/plain": [
       "array([100,   2,   3,   4])"
      ]
     },
     "execution_count": 28,
     "metadata": {},
     "output_type": "execute_result"
    }
   ],
   "source": [
    "a"
   ]
  },
  {
   "cell_type": "code",
   "execution_count": 29,
   "id": "d1c1a693-34f2-461b-8d39-f2686fb0106c",
   "metadata": {},
   "outputs": [],
   "source": [
    "a[1]=400"
   ]
  },
  {
   "cell_type": "code",
   "execution_count": 30,
   "id": "458414b8-44e9-4bb7-8afc-d10366f232db",
   "metadata": {},
   "outputs": [
    {
     "data": {
      "text/plain": [
       "array([100, 400,   3,   4])"
      ]
     },
     "execution_count": 30,
     "metadata": {},
     "output_type": "execute_result"
    }
   ],
   "source": [
    "a"
   ]
  },
  {
   "cell_type": "code",
   "execution_count": 31,
   "id": "f211d5c8-d694-4848-bcb9-b3c62eb7167c",
   "metadata": {},
   "outputs": [
    {
     "data": {
      "text/plain": [
       "array([100,   2,   3,   4])"
      ]
     },
     "execution_count": 31,
     "metadata": {},
     "output_type": "execute_result"
    }
   ],
   "source": [
    "#it does not completely copy becuase it data use different location.d copy a data in different location ,it does not copy in same location ,that why output is  not same."
   ]
  },
  {
   "cell_type": "code",
   "execution_count": null,
   "id": "1efac81f-aa14-471e-8ea7-af7841e617fb",
   "metadata": {},
   "outputs": [],
   "source": [
    "#numpy has differnet function used to genrate arrays"
   ]
  },
  {
   "cell_type": "code",
   "execution_count": 32,
   "id": "6ba9514d-ecac-49cf-ae27-a86ff2beba34",
   "metadata": {},
   "outputs": [
    {
     "data": {
      "text/plain": [
       "array([[ True, False, False],\n",
       "       [False,  True, False],\n",
       "       [False, False,  True]])"
      ]
     },
     "execution_count": 32,
     "metadata": {},
     "output_type": "execute_result"
    }
   ],
   "source": [
    "np.fromfunction(lambda i,j:i==j,(3,3))#using lambda crete 3 cross 3 data.i=row and j =colums "
   ]
  },
  {
   "cell_type": "code",
   "execution_count": 33,
   "id": "0df7cc18-849c-41c1-bc5b-96b0578e5b35",
   "metadata": {},
   "outputs": [
    {
     "data": {
      "text/plain": [
       "array([[0., 0., 0.],\n",
       "       [0., 1., 2.],\n",
       "       [0., 2., 4.]])"
      ]
     },
     "execution_count": 33,
     "metadata": {},
     "output_type": "execute_result"
    }
   ],
   "source": [
    "np.fromfunction(lambda i,j:i*j,(3,3))"
   ]
  },
  {
   "cell_type": "code",
   "execution_count": 40,
   "id": "4865e930-eff0-47c0-a44c-6dce84fe5131",
   "metadata": {},
   "outputs": [],
   "source": [
    "#iteable varible\n",
    "itrable=(i*i for i in range(5))\n",
    "    "
   ]
  },
  {
   "cell_type": "code",
   "execution_count": 42,
   "id": "08b495d9-df7f-418b-83fd-51f6771e4086",
   "metadata": {},
   "outputs": [
    {
     "data": {
      "text/plain": [
       "array([ 0.,  1.,  4.,  9., 16.])"
      ]
     },
     "execution_count": 42,
     "metadata": {},
     "output_type": "execute_result"
    }
   ],
   "source": [
    "np.fromiter(itrable,float)"
   ]
  },
  {
   "cell_type": "code",
   "execution_count": 45,
   "id": "7387fec2-31ee-48bd-b017-d9030febb36e",
   "metadata": {},
   "outputs": [
    {
     "data": {
      "text/plain": [
       "array([234., 423.])"
      ]
     },
     "execution_count": 45,
     "metadata": {},
     "output_type": "execute_result"
    }
   ],
   "source": [
    "np.fromstring('234 423' ,sep=\" \")"
   ]
  },
  {
   "cell_type": "code",
   "execution_count": 46,
   "id": "218426d9-894c-4ef4-8165-0739b1288281",
   "metadata": {},
   "outputs": [
    {
     "data": {
      "text/plain": [
       "array([234., 423.])"
      ]
     },
     "execution_count": 46,
     "metadata": {},
     "output_type": "execute_result"
    }
   ],
   "source": [
    "np.fromstring('234 ,423' ,sep=\" ,\")"
   ]
  },
  {
   "cell_type": "code",
   "execution_count": 47,
   "id": "4d082849-4bbe-4b8f-adde-b1ea4649632b",
   "metadata": {},
   "outputs": [],
   "source": [
    "#numpy datatype\n"
   ]
  },
  {
   "cell_type": "code",
   "execution_count": 48,
   "id": "2202b90f-4c0f-493d-a8e5-02f4ece90262",
   "metadata": {},
   "outputs": [],
   "source": [
    "l=[1,2,3,4]"
   ]
  },
  {
   "cell_type": "code",
   "execution_count": 49,
   "id": "12f1699e-4890-466a-b960-282241a51d0c",
   "metadata": {},
   "outputs": [],
   "source": [
    "a=np.array(l)"
   ]
  },
  {
   "cell_type": "code",
   "execution_count": 50,
   "id": "fe443255-c86c-4b98-998c-1878cb124f54",
   "metadata": {},
   "outputs": [
    {
     "data": {
      "text/plain": [
       "array([1, 2, 3, 4])"
      ]
     },
     "execution_count": 50,
     "metadata": {},
     "output_type": "execute_result"
    }
   ],
   "source": [
    "a"
   ]
  },
  {
   "cell_type": "code",
   "execution_count": 51,
   "id": "683599e1-99e7-41f8-bd6e-807b6453436c",
   "metadata": {},
   "outputs": [
    {
     "data": {
      "text/plain": [
       "1"
      ]
     },
     "execution_count": 51,
     "metadata": {},
     "output_type": "execute_result"
    }
   ],
   "source": [
    "ar.ndim"
   ]
  },
  {
   "cell_type": "raw",
   "id": "5933bfdf-b22f-48fa-ba0b-43de768b20d1",
   "metadata": {},
   "source": []
  },
  {
   "cell_type": "code",
   "execution_count": 54,
   "id": "b076fd7e-60f0-496f-8a80-43a24ca070e3",
   "metadata": {},
   "outputs": [],
   "source": [
    "ar2=np.array([[1,2,33,4],[1,2,3,4]])"
   ]
  },
  {
   "cell_type": "code",
   "execution_count": 55,
   "id": "08059c96-7dad-4f7e-8913-33d377e0b281",
   "metadata": {},
   "outputs": [
    {
     "data": {
      "text/plain": [
       "array([[ 1,  2, 33,  4],\n",
       "       [ 1,  2,  3,  4]])"
      ]
     },
     "execution_count": 55,
     "metadata": {},
     "output_type": "execute_result"
    }
   ],
   "source": [
    "ar2\n"
   ]
  },
  {
   "cell_type": "code",
   "execution_count": 56,
   "id": "1e66bef5-5985-4164-af63-4f7e068490b8",
   "metadata": {},
   "outputs": [
    {
     "data": {
      "text/plain": [
       "2"
      ]
     },
     "execution_count": 56,
     "metadata": {},
     "output_type": "execute_result"
    }
   ],
   "source": [
    "ar2.ndim#checing the dim"
   ]
  },
  {
   "cell_type": "code",
   "execution_count": 57,
   "id": "81abdf3e-4125-40f1-bdb9-77a452d52b0b",
   "metadata": {},
   "outputs": [
    {
     "data": {
      "text/plain": [
       "4"
      ]
     },
     "execution_count": 57,
     "metadata": {},
     "output_type": "execute_result"
    }
   ],
   "source": [
    "a.size"
   ]
  },
  {
   "cell_type": "code",
   "execution_count": 58,
   "id": "21ff04dc-bd0f-4530-a5ec-02ca9753bf15",
   "metadata": {},
   "outputs": [
    {
     "data": {
      "text/plain": [
       "8"
      ]
     },
     "execution_count": 58,
     "metadata": {},
     "output_type": "execute_result"
    }
   ],
   "source": [
    "ar2.size"
   ]
  },
  {
   "cell_type": "code",
   "execution_count": 59,
   "id": "f8eabb0b-ac36-4f39-86ee-330f7f49794c",
   "metadata": {},
   "outputs": [
    {
     "data": {
      "text/plain": [
       "(4,)"
      ]
     },
     "execution_count": 59,
     "metadata": {},
     "output_type": "execute_result"
    }
   ],
   "source": [
    "a.shape"
   ]
  },
  {
   "cell_type": "code",
   "execution_count": 60,
   "id": "03ea8417-4d3f-4268-951c-5c34450af89d",
   "metadata": {},
   "outputs": [
    {
     "data": {
      "text/plain": [
       "(2, 4)"
      ]
     },
     "execution_count": 60,
     "metadata": {},
     "output_type": "execute_result"
    }
   ],
   "source": [
    "ar2.shape"
   ]
  },
  {
   "cell_type": "code",
   "execution_count": 61,
   "id": "8d91974f-2059-432a-9e01-be500249ec4f",
   "metadata": {},
   "outputs": [
    {
     "data": {
      "text/plain": [
       "dtype('int64')"
      ]
     },
     "execution_count": 61,
     "metadata": {},
     "output_type": "execute_result"
    }
   ],
   "source": [
    "a.dtype"
   ]
  },
  {
   "cell_type": "code",
   "execution_count": 62,
   "id": "fdd12c74-43fd-4c77-83b2-014a9fa0d3c4",
   "metadata": {},
   "outputs": [
    {
     "data": {
      "text/plain": [
       "dtype('int64')"
      ]
     },
     "execution_count": 62,
     "metadata": {},
     "output_type": "execute_result"
    }
   ],
   "source": [
    "ar2.dtype"
   ]
  },
  {
   "cell_type": "code",
   "execution_count": 65,
   "id": "3068a396-1dec-4881-a7d6-cbc2c992aa66",
   "metadata": {},
   "outputs": [],
   "source": [
    "ar22=np.array([(2.3,3,4),(3,5.3,6)])"
   ]
  },
  {
   "cell_type": "code",
   "execution_count": 66,
   "id": "cc7448b5-27ec-4e37-abd3-0053eb94e9d5",
   "metadata": {},
   "outputs": [
    {
     "data": {
      "text/plain": [
       "array([[2.3, 3. , 4. ],\n",
       "       [3. , 5.3, 6. ]])"
      ]
     },
     "execution_count": 66,
     "metadata": {},
     "output_type": "execute_result"
    }
   ],
   "source": [
    "ar22"
   ]
  },
  {
   "cell_type": "code",
   "execution_count": 68,
   "id": "93be6edc-214c-45f0-bd7a-6f280ab31b94",
   "metadata": {},
   "outputs": [
    {
     "data": {
      "text/plain": [
       "dtype('float64')"
      ]
     },
     "execution_count": 68,
     "metadata": {},
     "output_type": "execute_result"
    }
   ],
   "source": [
    "ar22.dtype#because 1 data is float that why it change all"
   ]
  },
  {
   "cell_type": "code",
   "execution_count": 69,
   "id": "ad3f1f7b-b711-4919-9dab-428f98e26939",
   "metadata": {},
   "outputs": [
    {
     "data": {
      "text/plain": [
       "range(0, 5)"
      ]
     },
     "execution_count": 69,
     "metadata": {},
     "output_type": "execute_result"
    }
   ],
   "source": [
    "range(5)"
   ]
  },
  {
   "cell_type": "code",
   "execution_count": 70,
   "id": "7e43901d-5bfa-456d-91ca-cf3de809f349",
   "metadata": {},
   "outputs": [
    {
     "data": {
      "text/plain": [
       "[0, 1, 2, 3, 4]"
      ]
     },
     "execution_count": 70,
     "metadata": {},
     "output_type": "execute_result"
    }
   ],
   "source": [
    "list(range(5))#produce data in list"
   ]
  },
  {
   "cell_type": "code",
   "execution_count": 71,
   "id": "4fa00871-a22d-42c7-a478-2c36b9757f44",
   "metadata": {},
   "outputs": [
    {
     "ename": "TypeError",
     "evalue": "'float' object cannot be interpreted as an integer",
     "output_type": "error",
     "traceback": [
      "\u001b[0;31m---------------------------------------------------------------------------\u001b[0m",
      "\u001b[0;31mTypeError\u001b[0m                                 Traceback (most recent call last)",
      "Cell \u001b[0;32mIn[71], line 2\u001b[0m\n\u001b[1;32m      1\u001b[0m \u001b[38;5;66;03m#We want float produced no because range always take int, \u001b[39;00m\n\u001b[0;32m----> 2\u001b[0m \u001b[38;5;28mlist\u001b[39m(\u001b[38;5;28;43mrange\u001b[39;49m\u001b[43m(\u001b[49m\u001b[38;5;241;43m3.5\u001b[39;49m\u001b[43m,\u001b[49m\u001b[38;5;241;43m4\u001b[39;49m\u001b[43m)\u001b[49m)\n",
      "\u001b[0;31mTypeError\u001b[0m: 'float' object cannot be interpreted as an integer"
     ]
    }
   ],
   "source": [
    "\n",
    "#We want float produced no because range always take int, \n",
    "list(range(3.5,4))"
   ]
  },
  {
   "cell_type": "code",
   "execution_count": 72,
   "id": "be99fb59-20a9-4db0-bda8-6e55b65c3ae1",
   "metadata": {},
   "outputs": [
    {
     "data": {
      "text/plain": [
       "array([2.3, 3.3, 4.3, 5.3])"
      ]
     },
     "execution_count": 72,
     "metadata": {},
     "output_type": "execute_result"
    }
   ],
   "source": [
    "#therfore numpy as provisiom for float point ,for range.\n",
    "np.arange(2.3,5.6)#jump is 1"
   ]
  },
  {
   "cell_type": "code",
   "execution_count": 73,
   "id": "6d3d30f1-8a00-4582-a8e0-0424b4756c77",
   "metadata": {},
   "outputs": [
    {
     "data": {
      "text/plain": [
       "array([2.3, 2.6, 2.9, 3.2, 3.5, 3.8, 4.1, 4.4, 4.7, 5. , 5.3])"
      ]
     },
     "execution_count": 73,
     "metadata": {},
     "output_type": "execute_result"
    }
   ],
   "source": [
    "np.arange(2.3,5.6,0.3)#jump is 0.3"
   ]
  },
  {
   "cell_type": "code",
   "execution_count": 74,
   "id": "f50bcf95-fc38-4707-ac85-12be604acd4a",
   "metadata": {},
   "outputs": [
    {
     "data": {
      "text/plain": [
       "[2.3,\n",
       " 2.5999999999999996,\n",
       " 2.8999999999999995,\n",
       " 3.1999999999999993,\n",
       " 3.499999999999999,\n",
       " 3.799999999999999,\n",
       " 4.099999999999999,\n",
       " 4.399999999999999,\n",
       " 4.699999999999998,\n",
       " 4.999999999999998,\n",
       " 5.299999999999998]"
      ]
     },
     "execution_count": 74,
     "metadata": {},
     "output_type": "execute_result"
    }
   ],
   "source": [
    "#we want arry to list\n",
    "list(np.arange(2.3,5.6,0.3))"
   ]
  },
  {
   "cell_type": "code",
   "execution_count": 75,
   "id": "f457e49d-240e-4c91-9a0c-57264e28d314",
   "metadata": {},
   "outputs": [
    {
     "data": {
      "text/plain": [
       "array([1.        , 1.44444444, 1.88888889, 2.33333333, 2.77777778,\n",
       "       3.22222222, 3.66666667, 4.11111111, 4.55555556, 5.        ])"
      ]
     },
     "execution_count": 75,
     "metadata": {},
     "output_type": "execute_result"
    }
   ],
   "source": [
    "np.linspace(1,5,10)#10 data produce in betwween this ,means takes data betwwn 1 to 5 and and spaceline 10"
   ]
  },
  {
   "cell_type": "code",
   "execution_count": 76,
   "id": "e8adbe5f-969f-4f09-a3a2-4f2b418c8cdc",
   "metadata": {},
   "outputs": [
    {
     "data": {
      "text/plain": [
       "array([0., 0., 0., 0., 0.])"
      ]
     },
     "execution_count": 76,
     "metadata": {},
     "output_type": "execute_result"
    }
   ],
   "source": [
    "np.zeros(5)#1 dim"
   ]
  },
  {
   "cell_type": "code",
   "execution_count": 80,
   "id": "3c2b0992-3a68-48df-aac9-29a2fbddb090",
   "metadata": {},
   "outputs": [
    {
     "data": {
      "text/plain": [
       "array([[0., 0., 0., 0., 0.],\n",
       "       [0., 0., 0., 0., 0.],\n",
       "       [0., 0., 0., 0., 0.]])"
      ]
     },
     "execution_count": 80,
     "metadata": {},
     "output_type": "execute_result"
    }
   ],
   "source": [
    "np.zeros((3,5))"
   ]
  },
  {
   "cell_type": "code",
   "execution_count": 82,
   "id": "53091607-1b90-462a-9f5f-383682023e72",
   "metadata": {},
   "outputs": [
    {
     "data": {
      "text/plain": [
       "array([[[0., 0.],\n",
       "        [0., 0.],\n",
       "        [0., 0.],\n",
       "        [0., 0.],\n",
       "        [0., 0.]],\n",
       "\n",
       "       [[0., 0.],\n",
       "        [0., 0.],\n",
       "        [0., 0.],\n",
       "        [0., 0.],\n",
       "        [0., 0.]],\n",
       "\n",
       "       [[0., 0.],\n",
       "        [0., 0.],\n",
       "        [0., 0.],\n",
       "        [0., 0.],\n",
       "        [0., 0.]]])"
      ]
     },
     "execution_count": 82,
     "metadata": {},
     "output_type": "execute_result"
    }
   ],
   "source": [
    "np.zeros((3,5,2))#3 dim it has x,y,z axis"
   ]
  },
  {
   "cell_type": "code",
   "execution_count": 84,
   "id": "6d27ff7d-8e6d-4c73-a771-12a5214fe483",
   "metadata": {},
   "outputs": [],
   "source": [
    "ar4=np.zeros((3,5,2,4))#0th fun"
   ]
  },
  {
   "cell_type": "code",
   "execution_count": 85,
   "id": "76776a63-3932-42a5-bdeb-5ff01f82f005",
   "metadata": {},
   "outputs": [
    {
     "data": {
      "text/plain": [
       "array([[[[0., 0., 0., 0.],\n",
       "         [0., 0., 0., 0.]],\n",
       "\n",
       "        [[0., 0., 0., 0.],\n",
       "         [0., 0., 0., 0.]],\n",
       "\n",
       "        [[0., 0., 0., 0.],\n",
       "         [0., 0., 0., 0.]],\n",
       "\n",
       "        [[0., 0., 0., 0.],\n",
       "         [0., 0., 0., 0.]],\n",
       "\n",
       "        [[0., 0., 0., 0.],\n",
       "         [0., 0., 0., 0.]]],\n",
       "\n",
       "\n",
       "       [[[0., 0., 0., 0.],\n",
       "         [0., 0., 0., 0.]],\n",
       "\n",
       "        [[0., 0., 0., 0.],\n",
       "         [0., 0., 0., 0.]],\n",
       "\n",
       "        [[0., 0., 0., 0.],\n",
       "         [0., 0., 0., 0.]],\n",
       "\n",
       "        [[0., 0., 0., 0.],\n",
       "         [0., 0., 0., 0.]],\n",
       "\n",
       "        [[0., 0., 0., 0.],\n",
       "         [0., 0., 0., 0.]]],\n",
       "\n",
       "\n",
       "       [[[0., 0., 0., 0.],\n",
       "         [0., 0., 0., 0.]],\n",
       "\n",
       "        [[0., 0., 0., 0.],\n",
       "         [0., 0., 0., 0.]],\n",
       "\n",
       "        [[0., 0., 0., 0.],\n",
       "         [0., 0., 0., 0.]],\n",
       "\n",
       "        [[0., 0., 0., 0.],\n",
       "         [0., 0., 0., 0.]],\n",
       "\n",
       "        [[0., 0., 0., 0.],\n",
       "         [0., 0., 0., 0.]]]])"
      ]
     },
     "execution_count": 85,
     "metadata": {},
     "output_type": "execute_result"
    }
   ],
   "source": [
    "ar4"
   ]
  },
  {
   "cell_type": "code",
   "execution_count": 86,
   "id": "6c984b69-f7af-43cc-9644-d1f6b1700291",
   "metadata": {},
   "outputs": [
    {
     "data": {
      "text/plain": [
       "4"
      ]
     },
     "execution_count": 86,
     "metadata": {},
     "output_type": "execute_result"
    }
   ],
   "source": [
    "ar4.ndim"
   ]
  },
  {
   "cell_type": "code",
   "execution_count": 87,
   "id": "eba29eaa-03c2-4202-b82c-606f591521d7",
   "metadata": {},
   "outputs": [],
   "source": [
    "#3d use in computervision deeplearing image is 3 d"
   ]
  },
  {
   "cell_type": "code",
   "execution_count": 88,
   "id": "33deda8e-9142-440d-bf99-fb26cfd68d90",
   "metadata": {},
   "outputs": [
    {
     "data": {
      "text/plain": [
       "array([1., 1., 1.])"
      ]
     },
     "execution_count": 88,
     "metadata": {},
     "output_type": "execute_result"
    }
   ],
   "source": [
    "np.ones(3)"
   ]
  },
  {
   "cell_type": "code",
   "execution_count": 89,
   "id": "922d8fa1-6eb4-4dce-9f05-ac3cc8c9818e",
   "metadata": {},
   "outputs": [
    {
     "data": {
      "text/plain": [
       "array([[1., 1., 1.],\n",
       "       [1., 1., 1.]])"
      ]
     },
     "execution_count": 89,
     "metadata": {},
     "output_type": "execute_result"
    }
   ],
   "source": [
    "np.ones((2,3))"
   ]
  },
  {
   "cell_type": "code",
   "execution_count": 91,
   "id": "5faa19b4-03b1-4e32-a9ce-a01954095e64",
   "metadata": {},
   "outputs": [],
   "source": [
    "on=np.ones((3,4,2))"
   ]
  },
  {
   "cell_type": "code",
   "execution_count": 92,
   "id": "94ae3ec6-f0f2-4aea-b06d-7e147d4bdc1a",
   "metadata": {},
   "outputs": [
    {
     "data": {
      "text/plain": [
       "array([[[5., 5.],\n",
       "        [5., 5.],\n",
       "        [5., 5.],\n",
       "        [5., 5.]],\n",
       "\n",
       "       [[5., 5.],\n",
       "        [5., 5.],\n",
       "        [5., 5.],\n",
       "        [5., 5.]],\n",
       "\n",
       "       [[5., 5.],\n",
       "        [5., 5.],\n",
       "        [5., 5.],\n",
       "        [5., 5.]]])"
      ]
     },
     "execution_count": 92,
     "metadata": {},
     "output_type": "execute_result"
    }
   ],
   "source": [
    "on*5"
   ]
  },
  {
   "cell_type": "code",
   "execution_count": 93,
   "id": "535704f3-fd45-4b78-98cd-2244efb93e64",
   "metadata": {},
   "outputs": [
    {
     "data": {
      "text/plain": [
       "array([[[6., 6.],\n",
       "        [6., 6.],\n",
       "        [6., 6.],\n",
       "        [6., 6.]],\n",
       "\n",
       "       [[6., 6.],\n",
       "        [6., 6.],\n",
       "        [6., 6.],\n",
       "        [6., 6.]],\n",
       "\n",
       "       [[6., 6.],\n",
       "        [6., 6.],\n",
       "        [6., 6.],\n",
       "        [6., 6.]]])"
      ]
     },
     "execution_count": 93,
     "metadata": {},
     "output_type": "execute_result"
    }
   ],
   "source": [
    "on+5"
   ]
  },
  {
   "cell_type": "code",
   "execution_count": 94,
   "id": "038ba353-b20e-4705-bfeb-1d0952bcbe9f",
   "metadata": {},
   "outputs": [
    {
     "data": {
      "text/plain": [
       "array([[1., 1.],\n",
       "       [1., 1.],\n",
       "       [1., 1.]])"
      ]
     },
     "execution_count": 94,
     "metadata": {},
     "output_type": "execute_result"
    }
   ],
   "source": [
    "np.empty((3,2))"
   ]
  },
  {
   "cell_type": "code",
   "execution_count": 95,
   "id": "9824d1b6-8ea8-4f48-af89-1f7089a03074",
   "metadata": {},
   "outputs": [
    {
     "data": {
      "text/plain": [
       "array([[1., 0., 0., 0.],\n",
       "       [0., 1., 0., 0.],\n",
       "       [0., 0., 1., 0.],\n",
       "       [0., 0., 0., 1.]])"
      ]
     },
     "execution_count": 95,
     "metadata": {},
     "output_type": "execute_result"
    }
   ],
   "source": [
    "np.eye(4)#identity matrix detriminat is 1"
   ]
  },
  {
   "cell_type": "code",
   "execution_count": 96,
   "id": "4293f5dc-edc5-4297-80c7-e98da6189e06",
   "metadata": {},
   "outputs": [
    {
     "data": {
      "text/plain": [
       "array([2.        , 2.05263158, 2.10526316, 2.15789474, 2.21052632,\n",
       "       2.26315789, 2.31578947, 2.36842105, 2.42105263, 2.47368421,\n",
       "       2.52631579, 2.57894737, 2.63157895, 2.68421053, 2.73684211,\n",
       "       2.78947368, 2.84210526, 2.89473684, 2.94736842, 3.        ])"
      ]
     },
     "execution_count": 96,
     "metadata": {},
     "output_type": "execute_result"
    }
   ],
   "source": [
    "np.linspace(2,3,20)"
   ]
  },
  {
   "cell_type": "code",
   "execution_count": 97,
   "id": "aa44cdee-f3f6-4853-bc04-5a49aecc9740",
   "metadata": {},
   "outputs": [
    {
     "data": {
      "text/plain": [
       "array([  100.        ,   166.81005372,   278.25594022,   464.15888336,\n",
       "         774.26368268,  1291.54966501,  2154.43469003,  3593.8136638 ,\n",
       "        5994.84250319, 10000.        ])"
      ]
     },
     "execution_count": 97,
     "metadata": {},
     "output_type": "execute_result"
    }
   ],
   "source": [
    "np.logspace(2,4,10)#logarith"
   ]
  },
  {
   "cell_type": "code",
   "execution_count": 99,
   "id": "c3dad314-41ce-43fa-acf3-b5653e510d0f",
   "metadata": {},
   "outputs": [
    {
     "data": {
      "text/plain": [
       "array([ 4.        ,  4.66611616,  5.44316   ,  6.34960421,  7.4069977 ,\n",
       "        8.64047791, 10.0793684 , 11.75787594, 13.71590373, 16.        ])"
      ]
     },
     "execution_count": 99,
     "metadata": {},
     "output_type": "execute_result"
    }
   ],
   "source": [
    "np.logspace(2,4,10,base=2)"
   ]
  },
  {
   "cell_type": "code",
   "execution_count": 103,
   "id": "66457940-1083-4966-8a7e-5bba47c76631",
   "metadata": {},
   "outputs": [],
   "source": [
    "arr=np.random.randn(3,4)#random data here averag/meane =0 std=1 standard normal distrbution."
   ]
  },
  {
   "cell_type": "code",
   "execution_count": 104,
   "id": "6fa056c5-d4c4-46df-ac87-7a78563671c2",
   "metadata": {},
   "outputs": [
    {
     "data": {
      "text/plain": [
       "array([[-0.59282371,  0.09182465,  0.22536592, -0.95876158],\n",
       "       [-1.36872896,  0.32368381,  0.03793302, -1.00147656],\n",
       "       [-0.89163189,  0.59462641,  0.87806985,  1.21653655]])"
      ]
     },
     "execution_count": 104,
     "metadata": {},
     "output_type": "execute_result"
    }
   ],
   "source": [
    "arr"
   ]
  },
  {
   "cell_type": "code",
   "execution_count": 105,
   "id": "fa1088b3-3838-467a-8e68-f67f5a0cc640",
   "metadata": {},
   "outputs": [
    {
     "data": {
      "text/html": [
       "<div>\n",
       "<style scoped>\n",
       "    .dataframe tbody tr th:only-of-type {\n",
       "        vertical-align: middle;\n",
       "    }\n",
       "\n",
       "    .dataframe tbody tr th {\n",
       "        vertical-align: top;\n",
       "    }\n",
       "\n",
       "    .dataframe thead th {\n",
       "        text-align: right;\n",
       "    }\n",
       "</style>\n",
       "<table border=\"1\" class=\"dataframe\">\n",
       "  <thead>\n",
       "    <tr style=\"text-align: right;\">\n",
       "      <th></th>\n",
       "      <th>0</th>\n",
       "      <th>1</th>\n",
       "      <th>2</th>\n",
       "      <th>3</th>\n",
       "    </tr>\n",
       "  </thead>\n",
       "  <tbody>\n",
       "    <tr>\n",
       "      <th>0</th>\n",
       "      <td>-0.592824</td>\n",
       "      <td>0.091825</td>\n",
       "      <td>0.225366</td>\n",
       "      <td>-0.958762</td>\n",
       "    </tr>\n",
       "    <tr>\n",
       "      <th>1</th>\n",
       "      <td>-1.368729</td>\n",
       "      <td>0.323684</td>\n",
       "      <td>0.037933</td>\n",
       "      <td>-1.001477</td>\n",
       "    </tr>\n",
       "    <tr>\n",
       "      <th>2</th>\n",
       "      <td>-0.891632</td>\n",
       "      <td>0.594626</td>\n",
       "      <td>0.878070</td>\n",
       "      <td>1.216537</td>\n",
       "    </tr>\n",
       "  </tbody>\n",
       "</table>\n",
       "</div>"
      ],
      "text/plain": [
       "          0         1         2         3\n",
       "0 -0.592824  0.091825  0.225366 -0.958762\n",
       "1 -1.368729  0.323684  0.037933 -1.001477\n",
       "2 -0.891632  0.594626  0.878070  1.216537"
      ]
     },
     "execution_count": 105,
     "metadata": {},
     "output_type": "execute_result"
    }
   ],
   "source": [
    "import pandas as pd\n",
    "pd.DataFrame(arr)"
   ]
  },
  {
   "cell_type": "code",
   "execution_count": 106,
   "id": "e493e18a-6919-447f-b8f6-b1d879ef9d7b",
   "metadata": {},
   "outputs": [
    {
     "data": {
      "text/plain": [
       "array([[0.79934971, 0.10909746, 0.15827115, 0.19276175],\n",
       "       [0.70439137, 0.89289585, 0.23251819, 0.20981637],\n",
       "       [0.30236391, 0.98056374, 0.61241245, 0.30796309]])"
      ]
     },
     "execution_count": 106,
     "metadata": {},
     "output_type": "execute_result"
    }
   ],
   "source": [
    "np.random.rand(3,4)#not standard normal distrbution."
   ]
  },
  {
   "cell_type": "code",
   "execution_count": 109,
   "id": "30134ab5-c8d7-43a0-90a4-cda838713958",
   "metadata": {},
   "outputs": [],
   "source": [
    "arr1=np.random.randint(1,100,(3,4))#takes random data betwwen 1 and 100,3and4 is size and shape"
   ]
  },
  {
   "cell_type": "code",
   "execution_count": 110,
   "id": "9c5cac70-95c7-4139-88e9-33d43d7ae6c7",
   "metadata": {},
   "outputs": [
    {
     "data": {
      "text/html": [
       "<div>\n",
       "<style scoped>\n",
       "    .dataframe tbody tr th:only-of-type {\n",
       "        vertical-align: middle;\n",
       "    }\n",
       "\n",
       "    .dataframe tbody tr th {\n",
       "        vertical-align: top;\n",
       "    }\n",
       "\n",
       "    .dataframe thead th {\n",
       "        text-align: right;\n",
       "    }\n",
       "</style>\n",
       "<table border=\"1\" class=\"dataframe\">\n",
       "  <thead>\n",
       "    <tr style=\"text-align: right;\">\n",
       "      <th></th>\n",
       "      <th>0</th>\n",
       "      <th>1</th>\n",
       "      <th>2</th>\n",
       "      <th>3</th>\n",
       "    </tr>\n",
       "  </thead>\n",
       "  <tbody>\n",
       "    <tr>\n",
       "      <th>0</th>\n",
       "      <td>52</td>\n",
       "      <td>88</td>\n",
       "      <td>29</td>\n",
       "      <td>23</td>\n",
       "    </tr>\n",
       "    <tr>\n",
       "      <th>1</th>\n",
       "      <td>57</td>\n",
       "      <td>11</td>\n",
       "      <td>32</td>\n",
       "      <td>13</td>\n",
       "    </tr>\n",
       "    <tr>\n",
       "      <th>2</th>\n",
       "      <td>22</td>\n",
       "      <td>52</td>\n",
       "      <td>6</td>\n",
       "      <td>25</td>\n",
       "    </tr>\n",
       "  </tbody>\n",
       "</table>\n",
       "</div>"
      ],
      "text/plain": [
       "    0   1   2   3\n",
       "0  52  88  29  23\n",
       "1  57  11  32  13\n",
       "2  22  52   6  25"
      ]
     },
     "execution_count": 110,
     "metadata": {},
     "output_type": "execute_result"
    }
   ],
   "source": [
    "import pandas as pd\n",
    "pd.DataFrame(arr1)"
   ]
  },
  {
   "cell_type": "code",
   "execution_count": 114,
   "id": "d9c4f338-1602-4307-84b8-210f8d828aca",
   "metadata": {},
   "outputs": [],
   "source": [
    "pd.DataFrame(np.random.randint(1,100,(300,400))).to_csv('test.csv')#store in csv file."
   ]
  },
  {
   "cell_type": "code",
   "execution_count": 113,
   "id": "896ec234-6f11-4601-aef0-9d9ff57bac0c",
   "metadata": {},
   "outputs": [],
   "source": [
    "arr=np.random.rand(3,4)#we want to change in another shape"
   ]
  },
  {
   "cell_type": "code",
   "execution_count": 115,
   "id": "68ec6d9b-15c0-43f2-944b-a23c8c8f96d6",
   "metadata": {},
   "outputs": [
    {
     "data": {
      "text/plain": [
       "array([[-0.59282371,  0.09182465,  0.22536592, -0.95876158],\n",
       "       [-1.36872896,  0.32368381,  0.03793302, -1.00147656],\n",
       "       [-0.89163189,  0.59462641,  0.87806985,  1.21653655]])"
      ]
     },
     "execution_count": 115,
     "metadata": {},
     "output_type": "execute_result"
    }
   ],
   "source": [
    "arr"
   ]
  },
  {
   "cell_type": "code",
   "execution_count": 116,
   "id": "b2f44684-f899-4a13-92d1-627330fdfbc3",
   "metadata": {},
   "outputs": [
    {
     "data": {
      "text/plain": [
       "array([[-0.59282371,  0.09182465],\n",
       "       [ 0.22536592, -0.95876158],\n",
       "       [-1.36872896,  0.32368381],\n",
       "       [ 0.03793302, -1.00147656],\n",
       "       [-0.89163189,  0.59462641],\n",
       "       [ 0.87806985,  1.21653655]])"
      ]
     },
     "execution_count": 116,
     "metadata": {},
     "output_type": "execute_result"
    }
   ],
   "source": [
    "arr.reshape(6,2)#multiple of above data menas 12 total multiple is 6,2"
   ]
  },
  {
   "cell_type": "code",
   "execution_count": 117,
   "id": "afc41911-a76f-489d-b67a-5c3df7897d06",
   "metadata": {},
   "outputs": [
    {
     "ename": "ValueError",
     "evalue": "cannot reshape array of size 12 into shape (6,3)",
     "output_type": "error",
     "traceback": [
      "\u001b[0;31m---------------------------------------------------------------------------\u001b[0m",
      "\u001b[0;31mValueError\u001b[0m                                Traceback (most recent call last)",
      "Cell \u001b[0;32mIn[117], line 1\u001b[0m\n\u001b[0;32m----> 1\u001b[0m \u001b[43marr\u001b[49m\u001b[38;5;241;43m.\u001b[39;49m\u001b[43mreshape\u001b[49m\u001b[43m(\u001b[49m\u001b[38;5;241;43m6\u001b[39;49m\u001b[43m,\u001b[49m\u001b[38;5;241;43m3\u001b[39;49m\u001b[43m)\u001b[49m\n",
      "\u001b[0;31mValueError\u001b[0m: cannot reshape array of size 12 into shape (6,3)"
     ]
    }
   ],
   "source": [
    "arr.reshape(6,3)"
   ]
  },
  {
   "cell_type": "code",
   "execution_count": 118,
   "id": "8aeb1420-a3d5-4e33-bb73-b56d2f533cfd",
   "metadata": {},
   "outputs": [
    {
     "data": {
      "text/plain": [
       "array([[-0.59282371,  0.09182465],\n",
       "       [ 0.22536592, -0.95876158],\n",
       "       [-1.36872896,  0.32368381],\n",
       "       [ 0.03793302, -1.00147656],\n",
       "       [-0.89163189,  0.59462641],\n",
       "       [ 0.87806985,  1.21653655]])"
      ]
     },
     "execution_count": 118,
     "metadata": {},
     "output_type": "execute_result"
    }
   ],
   "source": [
    "#negative take beacuse it thigh negative as 2.\n",
    "arr.reshape(6,-3)#it is use in image processing"
   ]
  },
  {
   "cell_type": "code",
   "execution_count": 121,
   "id": "333bafcb-82a8-410f-b021-aeba675886a0",
   "metadata": {},
   "outputs": [
    {
     "data": {
      "text/plain": [
       "array([[-0.59282371,  0.09182465,  0.22536592, -0.95876158],\n",
       "       [-1.36872896,  0.32368381,  0.03793302, -1.00147656],\n",
       "       [-0.89163189,  0.59462641,  0.87806985,  1.21653655]])"
      ]
     },
     "execution_count": 121,
     "metadata": {},
     "output_type": "execute_result"
    }
   ],
   "source": [
    "arr"
   ]
  },
  {
   "cell_type": "code",
   "execution_count": 122,
   "id": "2e949a41-ae9c-4f44-8c90-19611a8849dc",
   "metadata": {},
   "outputs": [
    {
     "data": {
      "text/plain": [
       "array([-1.36872896,  0.32368381,  0.03793302, -1.00147656])"
      ]
     },
     "execution_count": 122,
     "metadata": {},
     "output_type": "execute_result"
    }
   ],
   "source": [
    "#slicing\n",
    "arr[1]"
   ]
  },
  {
   "cell_type": "code",
   "execution_count": 123,
   "id": "2283c7b6-f140-4f6b-bf82-b8e3d1f50e00",
   "metadata": {},
   "outputs": [
    {
     "data": {
      "text/plain": [
       "0.32368380602806657"
      ]
     },
     "execution_count": 123,
     "metadata": {},
     "output_type": "execute_result"
    }
   ],
   "source": [
    "arr[1][1]"
   ]
  },
  {
   "cell_type": "code",
   "execution_count": 124,
   "id": "8ef4fde6-4245-4f23-94cc-4900a9192f73",
   "metadata": {},
   "outputs": [
    {
     "data": {
      "text/plain": [
       "array([[-1.36872896,  0.32368381,  0.03793302, -1.00147656],\n",
       "       [-0.89163189,  0.59462641,  0.87806985,  1.21653655]])"
      ]
     },
     "execution_count": 124,
     "metadata": {},
     "output_type": "execute_result"
    }
   ],
   "source": [
    "arr[1:3]"
   ]
  },
  {
   "cell_type": "code",
   "execution_count": 127,
   "id": "38c969a3-6ead-42d8-b462-dc40a74573b3",
   "metadata": {},
   "outputs": [
    {
     "data": {
      "text/plain": [
       "array([-1.00147656,  1.21653655])"
      ]
     },
     "execution_count": 127,
     "metadata": {},
     "output_type": "execute_result"
    }
   ],
   "source": [
    "arr[1:3,3]"
   ]
  },
  {
   "cell_type": "code",
   "execution_count": 140,
   "id": "962a48c3-d7c6-472a-afdc-18c63c9e730b",
   "metadata": {},
   "outputs": [],
   "source": [
    "arr=np.random.randint(1,100,(5,5))"
   ]
  },
  {
   "cell_type": "code",
   "execution_count": 141,
   "id": "5c572610-7d83-4785-b15f-57c47d7a8103",
   "metadata": {},
   "outputs": [
    {
     "data": {
      "text/plain": [
       "array([[86, 20, 73, 31, 74],\n",
       "       [94, 12, 83, 17,  5],\n",
       "       [90,  9, 48,  5,  6],\n",
       "       [58, 11, 82, 15, 95],\n",
       "       [41, 31, 60, 20, 47]])"
      ]
     },
     "execution_count": 141,
     "metadata": {},
     "output_type": "execute_result"
    }
   ],
   "source": [
    "arr"
   ]
  },
  {
   "cell_type": "code",
   "execution_count": 142,
   "id": "4f6537d7-b28e-423b-856c-14a9856b48ec",
   "metadata": {},
   "outputs": [
    {
     "data": {
      "text/plain": [
       "array([86, 73, 74, 94, 83, 90, 58, 82, 95, 60])"
      ]
     },
     "execution_count": 142,
     "metadata": {},
     "output_type": "execute_result"
    }
   ],
   "source": [
    "#we want only data>50\n",
    "arr[arr>50]"
   ]
  },
  {
   "cell_type": "code",
   "execution_count": 143,
   "id": "fc7d2a08-b213-4634-8819-efcfa075098e",
   "metadata": {},
   "outputs": [
    {
     "data": {
      "text/plain": [
       "array([[86, 20, 73, 31, 74],\n",
       "       [94, 12, 83, 17,  5],\n",
       "       [90,  9, 48,  5,  6],\n",
       "       [58, 11, 82, 15, 95],\n",
       "       [41, 31, 60, 20, 47]])"
      ]
     },
     "execution_count": 143,
     "metadata": {},
     "output_type": "execute_result"
    }
   ],
   "source": [
    "arr"
   ]
  },
  {
   "cell_type": "code",
   "execution_count": 144,
   "id": "6b2a0dc4-0fe0-4cdd-9152-e507a1307849",
   "metadata": {},
   "outputs": [
    {
     "data": {
      "text/plain": [
       "array([[90,  9, 48,  5,  6],\n",
       "       [58, 11, 82, 15, 95]])"
      ]
     },
     "execution_count": 144,
     "metadata": {},
     "output_type": "execute_result"
    }
   ],
   "source": [
    "arr[2:4]"
   ]
  },
  {
   "cell_type": "code",
   "execution_count": 147,
   "id": "7f3578e0-b098-455f-84d7-25b4c836dd23",
   "metadata": {},
   "outputs": [
    {
     "data": {
      "text/plain": [
       "array([[ 9, 48],\n",
       "       [11, 82]])"
      ]
     },
     "execution_count": 147,
     "metadata": {},
     "output_type": "execute_result"
    }
   ],
   "source": [
    "arr[2:4,[1,2]]"
   ]
  },
  {
   "cell_type": "code",
   "execution_count": 148,
   "id": "d6ad1552-4af4-4512-99eb-78011a58fe54",
   "metadata": {},
   "outputs": [
    {
     "data": {
      "text/plain": [
       "86"
      ]
     },
     "execution_count": 148,
     "metadata": {},
     "output_type": "execute_result"
    }
   ],
   "source": [
    "arr[0][0]"
   ]
  },
  {
   "cell_type": "code",
   "execution_count": 149,
   "id": "7ea30c53-32e6-4f8e-bfd1-23924e4fcc22",
   "metadata": {},
   "outputs": [],
   "source": [
    "#we can also manipuate at any time\n",
    "arr[0][0]=344"
   ]
  },
  {
   "cell_type": "code",
   "execution_count": 150,
   "id": "55d9ce27-4f79-484d-bd87-17975a48724e",
   "metadata": {},
   "outputs": [
    {
     "data": {
      "text/plain": [
       "array([[344,  20,  73,  31,  74],\n",
       "       [ 94,  12,  83,  17,   5],\n",
       "       [ 90,   9,  48,   5,   6],\n",
       "       [ 58,  11,  82,  15,  95],\n",
       "       [ 41,  31,  60,  20,  47]])"
      ]
     },
     "execution_count": 150,
     "metadata": {},
     "output_type": "execute_result"
    }
   ],
   "source": [
    "arr"
   ]
  },
  {
   "cell_type": "code",
   "execution_count": 151,
   "id": "24e9d8f5-4813-4484-8f7f-5f567c8987eb",
   "metadata": {},
   "outputs": [
    {
     "data": {
      "text/plain": [
       "array([[344,  20,  73,  31,  74],\n",
       "       [ 94,  12,  83,  17,   5],\n",
       "       [ 90,   9,  48,   5,   6],\n",
       "       [ 58,  11,  82,  15,  95],\n",
       "       [ 41,  31,  60,  20,  47]])"
      ]
     },
     "execution_count": 151,
     "metadata": {},
     "output_type": "execute_result"
    }
   ],
   "source": [
    "arr\n"
   ]
  },
  {
   "cell_type": "code",
   "execution_count": 152,
   "id": "f743c7a1-0b78-4375-b5a7-99a97c5c2a0b",
   "metadata": {},
   "outputs": [],
   "source": [
    "\n",
    "arr1=np.random.randint(1,3,(3,3))  \n",
    "arr2=np.random.randint(1,3,(3,3))  "
   ]
  },
  {
   "cell_type": "code",
   "execution_count": 153,
   "id": "a889b92e-9f0b-4f9d-a7a3-a5efe078895e",
   "metadata": {},
   "outputs": [
    {
     "data": {
      "text/plain": [
       "array([[2, 2, 1],\n",
       "       [2, 1, 2],\n",
       "       [1, 2, 2]])"
      ]
     },
     "execution_count": 153,
     "metadata": {},
     "output_type": "execute_result"
    }
   ],
   "source": [
    "arr1"
   ]
  },
  {
   "cell_type": "code",
   "execution_count": 154,
   "id": "570eadb8-632d-48b1-81ad-b261ca151f50",
   "metadata": {},
   "outputs": [
    {
     "data": {
      "text/plain": [
       "array([[1, 1, 1],\n",
       "       [2, 2, 2],\n",
       "       [1, 2, 1]])"
      ]
     },
     "execution_count": 154,
     "metadata": {},
     "output_type": "execute_result"
    }
   ],
   "source": [
    "arr2#index+index mapping"
   ]
  },
  {
   "cell_type": "code",
   "execution_count": 155,
   "id": "30aac757-7d90-4d6c-a1af-58be992fafe3",
   "metadata": {},
   "outputs": [
    {
     "data": {
      "text/plain": [
       "array([[3, 3, 2],\n",
       "       [4, 3, 4],\n",
       "       [2, 4, 3]])"
      ]
     },
     "execution_count": 155,
     "metadata": {},
     "output_type": "execute_result"
    }
   ],
   "source": [
    "arr1+arr2"
   ]
  },
  {
   "cell_type": "code",
   "execution_count": 156,
   "id": "3b1845c1-080a-414b-b20e-8f93ac274062",
   "metadata": {},
   "outputs": [
    {
     "data": {
      "text/plain": [
       "array([[ 1,  1,  0],\n",
       "       [ 0, -1,  0],\n",
       "       [ 0,  0,  1]])"
      ]
     },
     "execution_count": 156,
     "metadata": {},
     "output_type": "execute_result"
    }
   ],
   "source": [
    "arr1-arr2"
   ]
  },
  {
   "cell_type": "code",
   "execution_count": 157,
   "id": "07a7b4e8-6760-4417-a086-273540316547",
   "metadata": {},
   "outputs": [
    {
     "data": {
      "text/plain": [
       "array([[2. , 2. , 1. ],\n",
       "       [1. , 0.5, 1. ],\n",
       "       [1. , 1. , 2. ]])"
      ]
     },
     "execution_count": 157,
     "metadata": {},
     "output_type": "execute_result"
    }
   ],
   "source": [
    "arr1/arr2"
   ]
  },
  {
   "cell_type": "code",
   "execution_count": 158,
   "id": "b44ced77-9283-44e7-af5d-c9bb17fef4b9",
   "metadata": {},
   "outputs": [
    {
     "data": {
      "text/plain": [
       "array([[2, 2, 1],\n",
       "       [4, 2, 4],\n",
       "       [1, 4, 2]])"
      ]
     },
     "execution_count": 158,
     "metadata": {},
     "output_type": "execute_result"
    }
   ],
   "source": [
    "arr1*arr2#this is not standard matrix multiplcation it is indexwise"
   ]
  },
  {
   "cell_type": "code",
   "execution_count": 159,
   "id": "196bad77-1f26-41c7-94a1-60f43f970d83",
   "metadata": {},
   "outputs": [
    {
     "data": {
      "text/plain": [
       "array([[2, 2, 1],\n",
       "       [2, 1, 2],\n",
       "       [1, 2, 2]])"
      ]
     },
     "execution_count": 159,
     "metadata": {},
     "output_type": "execute_result"
    }
   ],
   "source": [
    "arr1"
   ]
  },
  {
   "cell_type": "code",
   "execution_count": 160,
   "id": "3856f739-d5a8-4042-b4ad-c6302815ef45",
   "metadata": {},
   "outputs": [
    {
     "data": {
      "text/plain": [
       "array([[1, 1, 1],\n",
       "       [2, 2, 2],\n",
       "       [1, 2, 1]])"
      ]
     },
     "execution_count": 160,
     "metadata": {},
     "output_type": "execute_result"
    }
   ],
   "source": [
    "arr2"
   ]
  },
  {
   "cell_type": "code",
   "execution_count": 161,
   "id": "c6797370-b9a4-4398-919c-6394f0aab48c",
   "metadata": {},
   "outputs": [
    {
     "data": {
      "text/plain": [
       "array([[7, 8, 7],\n",
       "       [6, 8, 6],\n",
       "       [7, 9, 7]])"
      ]
     },
     "execution_count": 161,
     "metadata": {},
     "output_type": "execute_result"
    }
   ],
   "source": [
    "#standar matrix multiplication is colum of 1st matrix and row of 2nd matrix \n",
    "arr1@arr2#standard matrix multiplication"
   ]
  },
  {
   "cell_type": "code",
   "execution_count": 162,
   "id": "7bc2a520-3363-44c0-8275-9f8224fa79b7",
   "metadata": {},
   "outputs": [
    {
     "name": "stderr",
     "output_type": "stream",
     "text": [
      "/tmp/ipykernel_147/1510032488.py:1: RuntimeWarning: divide by zero encountered in divide\n",
      "  arr1/0\n"
     ]
    },
    {
     "data": {
      "text/plain": [
       "array([[inf, inf, inf],\n",
       "       [inf, inf, inf],\n",
       "       [inf, inf, inf]])"
      ]
     },
     "execution_count": 162,
     "metadata": {},
     "output_type": "execute_result"
    }
   ],
   "source": [
    "arr1/0#it is numpy"
   ]
  },
  {
   "cell_type": "code",
   "execution_count": 163,
   "id": "9850267e-18b6-4bcf-aa01-bb0e79832516",
   "metadata": {},
   "outputs": [
    {
     "data": {
      "text/plain": [
       "array([[102, 102, 101],\n",
       "       [102, 101, 102],\n",
       "       [101, 102, 102]])"
      ]
     },
     "execution_count": 163,
     "metadata": {},
     "output_type": "execute_result"
    }
   ],
   "source": [
    "arr1+100"
   ]
  },
  {
   "cell_type": "code",
   "execution_count": 164,
   "id": "f9658947-dea2-4f40-8d94-1b3ec2def175",
   "metadata": {},
   "outputs": [
    {
     "data": {
      "text/plain": [
       "array([[4, 4, 1],\n",
       "       [4, 1, 4],\n",
       "       [1, 4, 4]])"
      ]
     },
     "execution_count": 164,
     "metadata": {},
     "output_type": "execute_result"
    }
   ],
   "source": [
    "arr1**2"
   ]
  },
  {
   "cell_type": "code",
   "execution_count": 165,
   "id": "7fd126e0-a679-4cc9-8cc9-7ff37c4c696c",
   "metadata": {},
   "outputs": [],
   "source": [
    "#numpy broadcasting"
   ]
  },
  {
   "cell_type": "code",
   "execution_count": 167,
   "id": "756368ac-8c98-4402-ba7a-67501a62f127",
   "metadata": {},
   "outputs": [],
   "source": [
    "arr=np.zeros((4,4))"
   ]
  },
  {
   "cell_type": "code",
   "execution_count": 168,
   "id": "1d29a12f-b5d5-4fdc-a2fc-afa014aa8dc4",
   "metadata": {},
   "outputs": [
    {
     "data": {
      "text/plain": [
       "array([[0., 0., 0., 0.],\n",
       "       [0., 0., 0., 0.],\n",
       "       [0., 0., 0., 0.],\n",
       "       [0., 0., 0., 0.]])"
      ]
     },
     "execution_count": 168,
     "metadata": {},
     "output_type": "execute_result"
    }
   ],
   "source": [
    "arr"
   ]
  },
  {
   "cell_type": "code",
   "execution_count": 169,
   "id": "fc00668f-da9a-4548-9c68-dfe2a43166d3",
   "metadata": {},
   "outputs": [],
   "source": [
    "row=np.array([1,2,3,4])"
   ]
  },
  {
   "cell_type": "code",
   "execution_count": 170,
   "id": "b51da8d3-6489-4319-9535-28622254124b",
   "metadata": {},
   "outputs": [
    {
     "data": {
      "text/plain": [
       "array([1, 2, 3, 4])"
      ]
     },
     "execution_count": 170,
     "metadata": {},
     "output_type": "execute_result"
    }
   ],
   "source": [
    "row"
   ]
  },
  {
   "cell_type": "code",
   "execution_count": 171,
   "id": "ad1121e9-295f-4c47-ad1d-2b41ad13ce90",
   "metadata": {},
   "outputs": [
    {
     "data": {
      "text/plain": [
       "array([[1., 2., 3., 4.],\n",
       "       [1., 2., 3., 4.],\n",
       "       [1., 2., 3., 4.],\n",
       "       [1., 2., 3., 4.]])"
      ]
     },
     "execution_count": 171,
     "metadata": {},
     "output_type": "execute_result"
    }
   ],
   "source": [
    "arr+row#it rowise addition , broadcasting change row value"
   ]
  },
  {
   "cell_type": "code",
   "execution_count": 172,
   "id": "fb94cdfd-65cf-48a4-b598-9ce923abe04b",
   "metadata": {},
   "outputs": [
    {
     "data": {
      "text/plain": [
       "array([1, 2, 3, 4])"
      ]
     },
     "execution_count": 172,
     "metadata": {},
     "output_type": "execute_result"
    }
   ],
   "source": [
    "#for coumn we have to use transpose.\n",
    "row.T#it does not transpose because it is a 1d array"
   ]
  },
  {
   "cell_type": "code",
   "execution_count": 173,
   "id": "8f6d8f43-c904-42c5-a46b-394efbc0654a",
   "metadata": {},
   "outputs": [
    {
     "data": {
      "text/plain": [
       "1"
      ]
     },
     "execution_count": 173,
     "metadata": {},
     "output_type": "execute_result"
    }
   ],
   "source": [
    "row.ndim"
   ]
  },
  {
   "cell_type": "code",
   "execution_count": 176,
   "id": "8ac75240-e0ac-4845-b7df-7f683e0409a8",
   "metadata": {},
   "outputs": [],
   "source": [
    "col=np.array([[1,2,3,4]])"
   ]
  },
  {
   "cell_type": "code",
   "execution_count": 177,
   "id": "dabeb2df-8ff7-47dd-a3d9-be85ac814055",
   "metadata": {},
   "outputs": [
    {
     "data": {
      "text/plain": [
       "array([[1],\n",
       "       [2],\n",
       "       [3],\n",
       "       [4]])"
      ]
     },
     "execution_count": 177,
     "metadata": {},
     "output_type": "execute_result"
    }
   ],
   "source": [
    "col.T"
   ]
  },
  {
   "cell_type": "code",
   "execution_count": 178,
   "id": "99f71a3d-a552-42a5-bb93-f4862243545e",
   "metadata": {},
   "outputs": [
    {
     "data": {
      "text/plain": [
       "array([[1., 1., 1., 1.],\n",
       "       [2., 2., 2., 2.],\n",
       "       [3., 3., 3., 3.],\n",
       "       [4., 4., 4., 4.]])"
      ]
     },
     "execution_count": 178,
     "metadata": {},
     "output_type": "execute_result"
    }
   ],
   "source": [
    "col.T+arr#it columise addition , broadcasting change column value"
   ]
  },
  {
   "cell_type": "code",
   "execution_count": 180,
   "id": "2ebf0ae4-980a-4f42-9143-1d38d2109890",
   "metadata": {},
   "outputs": [],
   "source": [
    "arr1=np.random.randint(1,4,(3,4))"
   ]
  },
  {
   "cell_type": "code",
   "execution_count": 181,
   "id": "c4e44c4c-3e76-47a3-a11a-b17c7e074dd1",
   "metadata": {},
   "outputs": [
    {
     "data": {
      "text/plain": [
       "array([[2, 1, 3, 1],\n",
       "       [1, 3, 2, 1],\n",
       "       [2, 1, 1, 1]])"
      ]
     },
     "execution_count": 181,
     "metadata": {},
     "output_type": "execute_result"
    }
   ],
   "source": [
    "arr1"
   ]
  },
  {
   "cell_type": "code",
   "execution_count": 182,
   "id": "0bc89179-73da-4e77-8142-26a97347f542",
   "metadata": {},
   "outputs": [
    {
     "data": {
      "text/plain": [
       "array([[1.41421356, 1.        , 1.73205081, 1.        ],\n",
       "       [1.        , 1.73205081, 1.41421356, 1.        ],\n",
       "       [1.41421356, 1.        , 1.        , 1.        ]])"
      ]
     },
     "execution_count": 182,
     "metadata": {},
     "output_type": "execute_result"
    }
   ],
   "source": [
    "np.sqrt(arr1)"
   ]
  },
  {
   "cell_type": "code",
   "execution_count": 184,
   "id": "59044f04-3ba8-45b4-a674-3747d0dea8b9",
   "metadata": {},
   "outputs": [
    {
     "data": {
      "text/plain": [
       "array([[0.30103   , 0.        , 0.47712125, 0.        ],\n",
       "       [0.        , 0.47712125, 0.30103   , 0.        ],\n",
       "       [0.30103   , 0.        , 0.        , 0.        ]])"
      ]
     },
     "execution_count": 184,
     "metadata": {},
     "output_type": "execute_result"
    }
   ],
   "source": [
    "np.log10(arr1)"
   ]
  },
  {
   "cell_type": "code",
   "execution_count": 185,
   "id": "cc6499d5-0ef7-4c57-bf6a-d0506e36c57c",
   "metadata": {},
   "outputs": [
    {
     "data": {
      "text/plain": [
       "array([[ 7.3890561 ,  2.71828183, 20.08553692,  2.71828183],\n",
       "       [ 2.71828183, 20.08553692,  7.3890561 ,  2.71828183],\n",
       "       [ 7.3890561 ,  2.71828183,  2.71828183,  2.71828183]])"
      ]
     },
     "execution_count": 185,
     "metadata": {},
     "output_type": "execute_result"
    }
   ],
   "source": [
    "np.exp(arr1)"
   ]
  },
  {
   "cell_type": "code",
   "execution_count": null,
   "id": "0e9a2a66-38a8-485d-9b6b-6ce5d9c31feb",
   "metadata": {},
   "outputs": [],
   "source": [
    "#iamage is matrix /dimesnion"
   ]
  }
 ],
 "metadata": {
  "kernelspec": {
   "display_name": "Python 3 (ipykernel)",
   "language": "python",
   "name": "python3"
  },
  "language_info": {
   "codemirror_mode": {
    "name": "ipython",
    "version": 3
   },
   "file_extension": ".py",
   "mimetype": "text/x-python",
   "name": "python",
   "nbconvert_exporter": "python",
   "pygments_lexer": "ipython3",
   "version": "3.10.8"
  }
 },
 "nbformat": 4,
 "nbformat_minor": 5
}
