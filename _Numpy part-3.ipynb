{
 "cells": [
  {
   "cell_type": "code",
   "execution_count": 1,
   "id": "32c14f64-e87e-4917-84d5-669508b7c0f0",
   "metadata": {},
   "outputs": [],
   "source": [
    "#sort searching counting function"
   ]
  },
  {
   "cell_type": "code",
   "execution_count": 2,
   "id": "23028d95-85ef-499c-b270-2fb9f70755b7",
   "metadata": {},
   "outputs": [],
   "source": [
    "#it is used in machine learning"
   ]
  },
  {
   "cell_type": "code",
   "execution_count": 3,
   "id": "a15370fb-8b29-4b2f-8b76-e562e9cd95d3",
   "metadata": {},
   "outputs": [],
   "source": [
    "import numpy as np"
   ]
  },
  {
   "cell_type": "code",
   "execution_count": 5,
   "id": "2ee04976-e945-4fa8-95d5-39f439a03527",
   "metadata": {},
   "outputs": [],
   "source": [
    "arr=np.array([4,5,6,3,5])"
   ]
  },
  {
   "cell_type": "code",
   "execution_count": 7,
   "id": "cc2d6bbe-41f9-4e32-a112-0f37154c72e5",
   "metadata": {},
   "outputs": [
    {
     "data": {
      "text/plain": [
       "array([3, 4, 5, 5, 6])"
      ]
     },
     "execution_count": 7,
     "metadata": {},
     "output_type": "execute_result"
    }
   ],
   "source": [
    "np.sort(arr)#ascending"
   ]
  },
  {
   "cell_type": "code",
   "execution_count": 10,
   "id": "c8f5a90b-8e68-474a-97a9-be0400726ae1",
   "metadata": {},
   "outputs": [
    {
     "data": {
      "text/plain": [
       "5"
      ]
     },
     "execution_count": 10,
     "metadata": {},
     "output_type": "execute_result"
    }
   ],
   "source": [
    "np.searchsorted(arr,34)#in which this is gone 5"
   ]
  },
  {
   "cell_type": "code",
   "execution_count": 11,
   "id": "3c00c1ed-4f80-49a8-bc28-c153b821fb28",
   "metadata": {},
   "outputs": [],
   "source": [
    "arr1=np.array([0,32,422,323,0,0,0])"
   ]
  },
  {
   "cell_type": "code",
   "execution_count": 12,
   "id": "b81b7428-273f-4737-8206-1bda568bed03",
   "metadata": {},
   "outputs": [],
   "source": [
    "#we have to find non zerp data"
   ]
  },
  {
   "cell_type": "code",
   "execution_count": 13,
   "id": "077b485d-d2d3-4a9c-bfb9-29154d82a697",
   "metadata": {},
   "outputs": [
    {
     "data": {
      "text/plain": [
       "3"
      ]
     },
     "execution_count": 13,
     "metadata": {},
     "output_type": "execute_result"
    }
   ],
   "source": [
    "np.count_nonzero(arr1)"
   ]
  },
  {
   "cell_type": "code",
   "execution_count": 14,
   "id": "ae35b88e-e1ff-45b5-a85f-9db4d29f5eb1",
   "metadata": {},
   "outputs": [
    {
     "data": {
      "text/plain": [
       "array([4, 5, 6, 3, 5])"
      ]
     },
     "execution_count": 14,
     "metadata": {},
     "output_type": "execute_result"
    }
   ],
   "source": [
    "arr"
   ]
  },
  {
   "cell_type": "code",
   "execution_count": 18,
   "id": "5902cc73-f138-4d8e-8351-0a539e07a558",
   "metadata": {},
   "outputs": [],
   "source": [
    "#we have to find data of 4"
   ]
  },
  {
   "cell_type": "code",
   "execution_count": 17,
   "id": "b0773c2e-61a8-4cd9-9c2e-46fce855c8f1",
   "metadata": {},
   "outputs": [
    {
     "data": {
      "text/plain": [
       "(array([1, 2, 4]),)"
      ]
     },
     "execution_count": 17,
     "metadata": {},
     "output_type": "execute_result"
    }
   ],
   "source": [
    "np.where(arr>4)#given index where the data is present"
   ]
  },
  {
   "cell_type": "code",
   "execution_count": 19,
   "id": "132b886f-e8bd-4d77-9dac-17a2f2963fa2",
   "metadata": {},
   "outputs": [
    {
     "data": {
      "text/plain": [
       "array([5, 6, 5])"
      ]
     },
     "execution_count": 19,
     "metadata": {},
     "output_type": "execute_result"
    }
   ],
   "source": [
    "np.extract(arr>4,arr)#this give data"
   ]
  },
  {
   "cell_type": "code",
   "execution_count": 20,
   "id": "7b2ff712-9ce9-4d11-9b6a-86364236c386",
   "metadata": {},
   "outputs": [],
   "source": [
    "#byte represnting"
   ]
  },
  {
   "cell_type": "code",
   "execution_count": 21,
   "id": "0e4c9aed-5575-4ac0-9bf1-3b4f6ab186c3",
   "metadata": {},
   "outputs": [
    {
     "data": {
      "text/plain": [
       "array([288230376151711744, 360287970189639680, 432345564227567616,\n",
       "       216172782113783808, 360287970189639680])"
      ]
     },
     "execution_count": 21,
     "metadata": {},
     "output_type": "execute_result"
    }
   ],
   "source": [
    "arr.byteswap()"
   ]
  },
  {
   "cell_type": "code",
   "execution_count": 22,
   "id": "5cb85861-f62a-4028-a97b-2e76e19169fc",
   "metadata": {},
   "outputs": [],
   "source": [
    "#numpy copies and viwes"
   ]
  },
  {
   "cell_type": "code",
   "execution_count": 23,
   "id": "1d9334d7-e0f0-43a4-b243-3f4b5b257de9",
   "metadata": {},
   "outputs": [
    {
     "data": {
      "text/plain": [
       "array([4, 5, 6, 3, 5])"
      ]
     },
     "execution_count": 23,
     "metadata": {},
     "output_type": "execute_result"
    }
   ],
   "source": [
    "arr#we know solo and deepcopy"
   ]
  },
  {
   "cell_type": "code",
   "execution_count": 24,
   "id": "5d8e6847-3b32-4ca6-b548-7cd3c5176ae5",
   "metadata": {},
   "outputs": [],
   "source": [
    "a=np.copy(arr)#deep copy means data avliable in different location,"
   ]
  },
  {
   "cell_type": "code",
   "execution_count": 27,
   "id": "c759000b-6874-45a7-8324-b80570794347",
   "metadata": {},
   "outputs": [],
   "source": [
    "b=arr.view()"
   ]
  },
  {
   "cell_type": "code",
   "execution_count": 33,
   "id": "85af9217-60ca-4b0c-86b3-7c8011589680",
   "metadata": {},
   "outputs": [],
   "source": [
    "b=arr#solocopy copy in same location"
   ]
  },
  {
   "cell_type": "code",
   "execution_count": 28,
   "id": "79bb9721-bb5c-47df-8530-8b4aed600c20",
   "metadata": {},
   "outputs": [
    {
     "data": {
      "text/plain": [
       "array([4, 5, 6, 3, 5])"
      ]
     },
     "execution_count": 28,
     "metadata": {},
     "output_type": "execute_result"
    }
   ],
   "source": [
    "b"
   ]
  },
  {
   "cell_type": "code",
   "execution_count": 37,
   "id": "192155a3-abaf-4494-b835-5f078e3d4d57",
   "metadata": {},
   "outputs": [
    {
     "data": {
      "text/plain": [
       "array([45,  5,  6,  3,  5])"
      ]
     },
     "execution_count": 37,
     "metadata": {},
     "output_type": "execute_result"
    }
   ],
   "source": [
    "arr"
   ]
  },
  {
   "cell_type": "code",
   "execution_count": 38,
   "id": "eb8deae6-18ac-424f-afb5-bbc6ca56935c",
   "metadata": {},
   "outputs": [],
   "source": [
    "b[0]=45"
   ]
  },
  {
   "cell_type": "code",
   "execution_count": 39,
   "id": "a20ad20b-4055-4b86-ab90-77b91ea17807",
   "metadata": {},
   "outputs": [
    {
     "data": {
      "text/plain": [
       "array([45,  5,  6,  3,  5])"
      ]
     },
     "execution_count": 39,
     "metadata": {},
     "output_type": "execute_result"
    }
   ],
   "source": [
    "b"
   ]
  },
  {
   "cell_type": "code",
   "execution_count": 40,
   "id": "ca6dbd03-c779-49ea-bdd0-d657a5e98219",
   "metadata": {},
   "outputs": [
    {
     "data": {
      "text/plain": [
       "array([45,  5,  6,  3,  5])"
      ]
     },
     "execution_count": 40,
     "metadata": {},
     "output_type": "execute_result"
    }
   ],
   "source": [
    "arr"
   ]
  },
  {
   "cell_type": "code",
   "execution_count": 41,
   "id": "3e7b4cda-2f6c-4a76-9469-059d2d09e013",
   "metadata": {},
   "outputs": [],
   "source": [
    "#numpy matrix library"
   ]
  },
  {
   "cell_type": "code",
   "execution_count": 42,
   "id": "b87dd621-749a-4a9f-a096-648af57568ec",
   "metadata": {},
   "outputs": [],
   "source": [
    "import numpy.matlib as nm"
   ]
  },
  {
   "cell_type": "code",
   "execution_count": 44,
   "id": "433deb1d-6c3b-40cc-98e1-6a4914c6f673",
   "metadata": {},
   "outputs": [
    {
     "data": {
      "text/plain": [
       "matrix([[0., 0., 0., 0., 0.]])"
      ]
     },
     "execution_count": 44,
     "metadata": {},
     "output_type": "execute_result"
    }
   ],
   "source": [
    "nm.zeros(5)#in this case generate matrix in numpy case generate array,matrix minimun dim is 2"
   ]
  },
  {
   "cell_type": "code",
   "execution_count": 47,
   "id": "4d93cdaf-6603-43c7-adb0-1e312f406ba9",
   "metadata": {},
   "outputs": [
    {
     "data": {
      "text/plain": [
       "matrix([[1., 1., 1., 1.],\n",
       "        [1., 1., 1., 1.],\n",
       "        [1., 1., 1., 1.]])"
      ]
     },
     "execution_count": 47,
     "metadata": {},
     "output_type": "execute_result"
    }
   ],
   "source": [
    "nm.ones((3,4))#matrix is subclass of arr"
   ]
  },
  {
   "cell_type": "code",
   "execution_count": 48,
   "id": "bdf04c53-81f7-4cd6-977d-405b743f78c8",
   "metadata": {},
   "outputs": [
    {
     "data": {
      "text/plain": [
       "matrix([[1., 0., 0., 0., 0.],\n",
       "        [0., 1., 0., 0., 0.],\n",
       "        [0., 0., 1., 0., 0.],\n",
       "        [0., 0., 0., 1., 0.],\n",
       "        [0., 0., 0., 0., 1.]])"
      ]
     },
     "execution_count": 48,
     "metadata": {},
     "output_type": "execute_result"
    }
   ],
   "source": [
    "nm.eye(5)#identy"
   ]
  },
  {
   "cell_type": "code",
   "execution_count": 49,
   "id": "7d233380-cc46-486c-8cc4-6e4d70744d9d",
   "metadata": {},
   "outputs": [],
   "source": [
    "#numpy linear algebra"
   ]
  },
  {
   "cell_type": "code",
   "execution_count": 50,
   "id": "079a436e-a2d2-446a-844a-ecdc962a32b1",
   "metadata": {},
   "outputs": [],
   "source": [
    "arr1=np.random.randint([[2,3],[4,5]])"
   ]
  },
  {
   "cell_type": "code",
   "execution_count": 52,
   "id": "9089dc90-7c33-4dfd-9d49-8b64437d1fb6",
   "metadata": {},
   "outputs": [],
   "source": [
    "arr2=np.random.randint([[2,3],[4,5]])"
   ]
  },
  {
   "cell_type": "code",
   "execution_count": 53,
   "id": "d63c64ca-d821-4666-a917-13b4dbfdf461",
   "metadata": {},
   "outputs": [
    {
     "data": {
      "text/plain": [
       "array([[ 3,  4],\n",
       "       [ 9, 12]])"
      ]
     },
     "execution_count": 53,
     "metadata": {},
     "output_type": "execute_result"
    }
   ],
   "source": [
    "np.dot(arr1,arr2)"
   ]
  },
  {
   "cell_type": "code",
   "execution_count": 55,
   "id": "1224c66c-8486-49f3-8d6d-0c39b71e05f1",
   "metadata": {},
   "outputs": [
    {
     "data": {
      "text/plain": [
       "array([[ 3,  4],\n",
       "       [ 9, 12]])"
      ]
     },
     "execution_count": 55,
     "metadata": {},
     "output_type": "execute_result"
    }
   ],
   "source": [
    "arr1@arr2#same as above ,symbol avliable as a/well as function."
   ]
  },
  {
   "cell_type": "code",
   "execution_count": null,
   "id": "cd19079e-8f42-4d1d-baaa-729002724816",
   "metadata": {},
   "outputs": [],
   "source": []
  }
 ],
 "metadata": {
  "kernelspec": {
   "display_name": "Python 3 (ipykernel)",
   "language": "python",
   "name": "python3"
  },
  "language_info": {
   "codemirror_mode": {
    "name": "ipython",
    "version": 3
   },
   "file_extension": ".py",
   "mimetype": "text/x-python",
   "name": "python",
   "nbconvert_exporter": "python",
   "pygments_lexer": "ipython3",
   "version": "3.10.8"
  }
 },
 "nbformat": 4,
 "nbformat_minor": 5
}
